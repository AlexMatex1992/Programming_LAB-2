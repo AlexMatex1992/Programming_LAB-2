{
 "cells": [
  {
   "cell_type": "markdown",
   "metadata": {},
   "source": [
    "### **1. Indicizzazione booleana**\n",
    "\n",
    "1. Creare un nuovo vettore con tutti i numeri primi tra 0 e 20. I numeri primi compresi tra 0 e 20 sono: **2, 3, 5, 7, 11, 13, 17, 19**.\n",
    "\n",
    "2. Utilizza un test logico (ad esempio `>`, `<`, `==`, `!=`) per **selezionare tutte le voci del vettore maggiori di 10**.\n",
    "\n",
    "3. Utilizza un test logico per selezionare **tutti i numeri primi pari** dalla lista.  \n"
   ]
  },
  {
   "cell_type": "markdown",
   "metadata": {},
   "source": [
    "PUNTO 1: CREA UN NUOVO VETTORE CON TUTTI I NUMERI PRIMI TRA 0 E 20\n"
   ]
  },
  {
   "cell_type": "code",
   "execution_count": null,
   "metadata": {},
   "outputs": [],
   "source": [
    "\n",
    "import numpy as np\n",
    "\n",
    "# Creo un nuovo vettore\n",
    "numeri_primi = np.array([2, 3, 5, 7, 11, 13, 17, 19])\n",
    "\n",
    "# Stampo il vettore\n",
    "print(numeri_primi)"
   ]
  },
  {
   "cell_type": "markdown",
   "metadata": {},
   "source": [
    "PUNTO 2: SELEZIONARE TUTTE LE VOCI DEL VETTORE MAGGIORE DI 10\n"
   ]
  },
  {
   "cell_type": "code",
   "execution_count": null,
   "metadata": {},
   "outputs": [
    {
     "name": "stdout",
     "output_type": "stream",
     "text": [
      "[11 13 17 19]\n"
     ]
    }
   ],
   "source": [
    "\n",
    "# Seleziono tutte le voci maggiori di 10\n",
    "maggiori_di_10 = numeri_primi[numeri_primi > 10]\n",
    "\n",
    "# Stampo il risultato\n",
    "print(maggiori_di_10)"
   ]
  },
  {
   "cell_type": "markdown",
   "metadata": {},
   "source": [
    "PUNTO 3: SELEZIONARE TUTTI I NUMERI PRIMI DELLA LISTA"
   ]
  },
  {
   "cell_type": "code",
   "execution_count": null,
   "metadata": {},
   "outputs": [
    {
     "name": "stdout",
     "output_type": "stream",
     "text": [
      "[2]\n"
     ]
    }
   ],
   "source": [
    "\n",
    "\n",
    "# Seleziono tutti i numeri primi\n",
    "primi_pari = numeri_primi[numeri_primi == 2]\n",
    "\n",
    "# Stampo il risultato\n",
    "print(primi_pari)"
   ]
  },
  {
   "cell_type": "markdown",
   "metadata": {},
   "source": [
    "### **2.  Operazioni su array**\n",
    "Crea un array **a**, 2D (senza digitarlo esplicitamente), e genera due nuovi array **b**, contenente la sua 2ª e 4ª riga, e **c** contenente solo la 3ª.  Dividi ogni colonna dell'array a, elemento per elemento, con l'array c."
   ]
  },
  {
   "cell_type": "code",
   "execution_count": null,
   "metadata": {},
   "outputs": [
    {
     "name": "stdout",
     "output_type": "stream",
     "text": [
      "Array a:\n",
      " [[4 9 9 2 7]\n",
      " [9 2 8 3 1]\n",
      " [9 9 8 6 5]\n",
      " [9 3 8 6 5]\n",
      " [6 6 7 7 8]]\n",
      "\n",
      "Array b (2ª e 4ª riga):\n",
      " [[9 2 8 3 1]\n",
      " [9 3 8 6 5]]\n",
      "\n",
      "Array c (3ª riga):\n",
      " [9 9 8 6 5]\n",
      "\n",
      "Array diviso (ogni colonna di a divisa per c):\n",
      " [[0.44444444 1.         1.125      0.33333333 1.4       ]\n",
      " [1.         0.22222222 1.         0.5        0.2       ]\n",
      " [1.         1.         1.         1.         1.        ]\n",
      " [1.         0.33333333 1.         1.         1.        ]\n",
      " [0.66666667 0.66666667 0.875      1.16666667 1.6       ]]\n"
     ]
    }
   ],
   "source": [
    "import numpy as np\n",
    "\n",
    "# Creo un array 2D\n",
    "a = np.random.randint(1, 10, (5, 5))    # Array 5x5 con numeri casuali tra 1 e 10 \n",
    "\n",
    "# Creo b, contenente la 2° e 3° riga\n",
    "b = a[[1, 3], :]                        # Le righe 2 (indice 1) e 4 (indice 3)\n",
    "\n",
    "# Creo c, contenente solo la 3° riga\n",
    "c = a[2, :]                             # La riga 3 (indice 2)\n",
    "\n",
    "# Divido ogni colonna dell'array a con l'array c\n",
    "diviso = a / c                          # Ogni elemento della riga a diviso il corrispondente elemnto di c\n",
    "\n",
    "# Stampo i risultati\n",
    "print(\"Array a:\\n\", a)\n",
    "print(\"\\nArray b (2ª e 4ª riga):\\n\", b)\n",
    "print(\"\\nArray c (3ª riga):\\n\", c)\n",
    "print(\"\\nArray diviso (ogni colonna di a divisa per c):\\n\", diviso)"
   ]
  },
  {
   "cell_type": "markdown",
   "metadata": {},
   "source": [
    "### **3. Seleziona il numero più vicino a 0.5 in un array casuale**\n",
    "Genera un array 10 x 3 con numeri casuali nell'intervallo [0,1].\n",
    "Per ogni riga, seleziona il numero più vicino a 0.5. Per farlo usa il fancy indexing."
   ]
  },
  {
   "cell_type": "code",
   "execution_count": 7,
   "metadata": {},
   "outputs": [
    {
     "name": "stdout",
     "output_type": "stream",
     "text": [
      "Array:\n",
      " [[0.0843676  0.96069597 0.20547995]\n",
      " [0.37650927 0.44151395 0.72989794]\n",
      " [0.79364776 0.38521036 0.53687125]\n",
      " [0.5698661  0.39808766 0.40744056]\n",
      " [0.86429943 0.89375898 0.8773522 ]\n",
      " [0.4565648  0.18247809 0.74857637]\n",
      " [0.24398647 0.64424083 0.25558476]\n",
      " [0.04674316 0.22205784 0.0917312 ]\n",
      " [0.29241243 0.24671717 0.44346895]\n",
      " [0.15916003 0.64394706 0.2845728 ]]\n",
      "\n",
      "Valori più vicini a 0.5 per ogni riga:\n",
      " [0.20547995 0.44151395 0.53687125 0.5698661  0.86429943 0.4565648\n",
      " 0.64424083 0.22205784 0.44346895 0.64394706]\n"
     ]
    }
   ],
   "source": [
    "import numpy as np\n",
    "\n",
    "## 1. Creo un array 10x3 con numeri casuali nell'intervallo [0, 1]\n",
    "array = np.random.rand(10, 3)\n",
    "\n",
    "## 2. Seleziono il numero più vicino a 0.5 per ogni riga\n",
    "numero_piu_vicino = np.abs(array - 0.5)                 # Calcola la differenza assoluta da 0.5\n",
    "indice_minimo = np.argmin(numero_piu_vicino, axis=1)    # Trovo l'indice con  la differenza minima\n",
    "\n",
    "# Utilizzo l'indice per selezionare il valore più vicino a 0.5\n",
    "valori_piu_vicini = array[np.arange(array.shape[0]), indice_minimo]\n",
    "\n",
    "# Stampo il risultato\n",
    "print(\"Array:\\n\", array)\n",
    "print(\"\\nValori più vicini a 0.5 per ogni riga:\\n\", valori_piu_vicini)"
   ]
  },
  {
   "cell_type": "markdown",
   "metadata": {},
   "source": [
    "### **4. Analisi della Frequenza Cardiaca con NumPy**\n",
    "\n",
    "1. **Supponiamo che i seguenti valori rappresentino la tua frequenza cardiaca** registrata dal tuo Fitbit durante la giornata:  \n",
    "   `68, 65, 77, 110, 160, 161, 162, 161, 160, 161, 162, 163, 164, 163, 162, 100, 90, 97, 72, 60, 70`  \n",
    "   Inserisci questi valori in un array NumPy.\n",
    "\n",
    "2. **Trova la frequenza cardiaca minima** registrata durante la giornata.  \n",
    "   _(Questo valore rappresenta approssimativamente la tua frequenza cardiaca a riposo, un comune indicatore di salute.)_\n",
    "\n",
    "3. **Trova la frequenza cardiaca massima** registrata durante la giornata.  \n",
    "   _(Questo valore è un'indicazione dell'intensità dell'esercizio fisico.)_\n",
    "\n",
    "4. **Calcoliamo la percentuale di letture effettuate mentre stavi facendo esercizio fisico (frequenza cardiaca sopra a 120)**:  \n",
    "   - Crea un nuovo array che contiene `True` quando la frequenza cardiaca è **superiore a 120**, e `False` quando è **inferiore o uguale a 120**.\n",
    "   - Utilizza una funzione di sintesi per calcolare la percentuale di osservazioni in cui la tua frequenza cardiaca era sopra 120.\n"
   ]
  },
  {
   "cell_type": "markdown",
   "metadata": {},
   "source": [
    "PUNTO 1: INSERISCO I VALORI DELLA FREQUENZA CARDIACA IN UN ARRAY NUMPY."
   ]
  },
  {
   "cell_type": "code",
   "execution_count": 14,
   "metadata": {},
   "outputs": [
    {
     "name": "stdout",
     "output_type": "stream",
     "text": [
      "Frequenze cardiache registrata durante la giornata:\n",
      "[ 68  65  77 110 160 161 162 161 160 161 162 163 164 163 162 100  90  97\n",
      "  72  60  70]\n"
     ]
    }
   ],
   "source": [
    "import numpy as np\n",
    "\n",
    "# Frequenze cardiache registrate\n",
    "frequenze_cardiache = np.array([68, 65, 77, 110, 160, 161, 162, 161, 160, 161, 162, 163, 164, 163, 162, 100, 90, 97, 72, 60, 70])\n",
    "\n",
    "# Stampo l'array\n",
    "print(\"Frequenze cardiache registrata durante la giornata:\")\n",
    "print(frequenze_cardiache)"
   ]
  },
  {
   "cell_type": "markdown",
   "metadata": {},
   "source": [
    "PUNTO 2: TROVA LA FREQUENZA CARDIACA MINIMA\n"
   ]
  },
  {
   "cell_type": "code",
   "execution_count": null,
   "metadata": {},
   "outputs": [
    {
     "name": "stdout",
     "output_type": "stream",
     "text": [
      "Frequenza cardiaca minima: 60\n"
     ]
    }
   ],
   "source": [
    "# Frequenza cardiaca minima\n",
    "frequenza_minima = np.min(frequenze_cardiache)\n",
    "\n",
    "# Stampo il risultato\n",
    "print(\"Frequenza cardiaca minima:\", frequenza_minima)"
   ]
  },
  {
   "cell_type": "markdown",
   "metadata": {},
   "source": [
    "PUNTO 3: TROVA LA FREQUENZA CARDIACA MASSIMA\n"
   ]
  },
  {
   "cell_type": "code",
   "execution_count": null,
   "metadata": {},
   "outputs": [
    {
     "name": "stdout",
     "output_type": "stream",
     "text": [
      "Frequenza cardiaca massima: 164\n"
     ]
    }
   ],
   "source": [
    "# Frequenza cardiaca massima\n",
    "frequenza_massima = np.max(frequenze_cardiache)\n",
    "\n",
    "# Stampo il risultato\n",
    "print(\"Frequenza cardiaca massima:\", frequenza_massima)"
   ]
  },
  {
   "cell_type": "markdown",
   "metadata": {},
   "source": [
    "PUNTO 4: CALCOLA LA PERCENTUALE DI LETTURE EFFETTUATE MENTRE STAVI FACENDO ESERCIZIO FISICO.\n"
   ]
  },
  {
   "cell_type": "code",
   "execution_count": null,
   "metadata": {},
   "outputs": [
    {
     "name": "stdout",
     "output_type": "stream",
     "text": [
      "Percentuale di letture durante l'esercizio fisico: 52.38%\n"
     ]
    }
   ],
   "source": [
    "# Creo un array con True se la frequenza è maggiore di 120, altrimenti False\n",
    "esercizio = frequenze_cardiache > 120\n",
    "\n",
    "# CalcoLo la percentuale di letture durante l'esercizio fisico\n",
    "percentuale_esercizio = np.mean(esercizio) * 100  # Media dei True (percentuale)\n",
    "\n",
    "# Stampo il risultato\n",
    "print(f\"Percentuale di letture durante l'esercizio fisico: {percentuale_esercizio:.2f}%\")"
   ]
  },
  {
   "cell_type": "markdown",
   "metadata": {},
   "source": [
    "### **5. Manipolazione di vettori**\n",
    "\n",
    "1. Creare un vettore contenente i seguenti stipendi: **50.000, 105.250, 55.000, 89.000**.  \n",
    "Qual è il costo totale del personale (somma di tutti gli stipendi dell'azienda)?\n",
    "\n",
    "2. Supponiamo che il nostro malvagio CEO abbia deciso di darsi un aumento.  \n",
    "Modifica il vettore degli stipendi in modo che il CEO, la persona che guadagna **105.250 dollari**, riceva un aumento del **15%**.\n",
    "\n",
    "3. Il **115%** di **105.250 dollari** è **121.037,50 dollari**.  \n",
    "Questo valore è presente nel tuo array? Se no, riesci a capire il motivo?\n",
    "\n",
    "4. Ricrea il vettore e utilizza l'argomento **`dtype`** in modo che, quando il CEO riceve un aumento del **15%**, il suo stipendio finale sia esattamente **121.037,50 dollari**.\n",
    "\n",
    "5. Questo aumento ha infastidito l'impiegata con lo stipendio più basso (**50.000 dollari**), che ora pretende un aumento del **20%**.  \n",
    "Modifica il vettore per riflettere questo cambiamento.\n",
    "\n",
    "6. L'aumento dato al CEO e all'impiegata ha irritato gli altri due dipendenti, quindi ora devono ricevere un aumento del **10%**.  \n",
    "Modifica il vettore di conseguenza.\n",
    "\n",
    "7. Calcola il **costo totale del personale** dopo tutti gli aumenti.  \n",
    "Alla fine, quanto è costato all'azienda l'aumento di circa **16.000 dollari** del CEO?\n"
   ]
  },
  {
   "cell_type": "markdown",
   "metadata": {},
   "source": [
    "PUNTO 1: CREARE UN VETTORE CON GLI STIPENDI E CALCOLARE IL COSTO TOTALE DEL PERSONALE\n"
   ]
  },
  {
   "cell_type": "code",
   "execution_count": null,
   "metadata": {},
   "outputs": [
    {
     "name": "stdout",
     "output_type": "stream",
     "text": [
      "Costo del personale: 299250\n"
     ]
    }
   ],
   "source": [
    "import numpy as np\n",
    "\n",
    "# Creo il vettore degli stipendi\n",
    "stipendi = np.array ([50000, 105250, 55000, 89000]) \n",
    "\n",
    "# Calcolo il costo totale del personale\n",
    "costo_totale = np.sum (stipendi)\n",
    "\n",
    "# Stampo il risultato\n",
    "print(\"Costo del personale:\", costo_totale)"
   ]
  },
  {
   "cell_type": "markdown",
   "metadata": {},
   "source": [
    "PUNTO 2: AUMENTO DEL 15% PER IL CEO\n"
   ]
  },
  {
   "cell_type": "code",
   "execution_count": null,
   "metadata": {},
   "outputs": [
    {
     "name": "stdout",
     "output_type": "stream",
     "text": [
      "Nuovo vettore degli stipendi dopo l'aumento del CEO: [ 50000 121037  55000  89000]\n"
     ]
    }
   ],
   "source": [
    "# Aumento del 15% per il CEO (Indice 3 = 105250)\n",
    "stipendi[1] = stipendi[1] * 1.15\n",
    "\n",
    "# Stampo il nuovo vettore\n",
    "print(\"Nuovo vettore degli stipendi dopo l'aumento del CEO:\", stipendi)"
   ]
  },
  {
   "cell_type": "markdown",
   "metadata": {},
   "source": [
    "PUNTO 3: VERIFICA SE IL NUOVO STIPENDIO DEL CEO E' 121.037,50 $."
   ]
  },
  {
   "cell_type": "code",
   "execution_count": null,
   "metadata": {},
   "outputs": [
    {
     "name": "stdout",
     "output_type": "stream",
     "text": [
      "Stipendio del CEO: 121037\n"
     ]
    }
   ],
   "source": [
    "# Verifico lo stipendio del CEO\n",
    "stipendio_ceo = stipendi[1]\n",
    "\n",
    "# Stampo il nuovo valore\n",
    "print(\"Stipendio del CEO:\", stipendio_ceo)\n",
    "\n",
    "# RISPOSTA: Il motivo per cui il valore potrebbe non essere esattamente uguale a 121.037,50 $ è dovuto alle \n",
    "#           imprecisioni della rappresentazione in virgola mobile, in quanto Pythoon usa un linguaggio in floating point."
   ]
  },
  {
   "cell_type": "markdown",
   "metadata": {},
   "source": [
    "PUNTO 4: CREARE IL VETTORE UTILIZZANDO DTYPE PER OTTENERE UNO STIPENDIO ESATTO DI 121.037,50 DOLLARI"
   ]
  },
  {
   "cell_type": "code",
   "execution_count": null,
   "metadata": {},
   "outputs": [
    {
     "name": "stdout",
     "output_type": "stream",
     "text": [
      "Vettore con dtype float64: [ 50000.  121037.5  55000.   89000. ]\n"
     ]
    }
   ],
   "source": [
    "# Creo il vettore con dtype float64\n",
    "stipendi = np.array([50000, 105250, 55000, 89000], dtype=np.float64)\n",
    "\n",
    "# Applico l'aumento del 15% per il CEO\n",
    "stipendi[1] = stipendi[1] * 1.15\n",
    "\n",
    "# Stampo il nuovo vettore con maggiore precisione\n",
    "print(\"Vettore con dtype float64:\", stipendi)\n",
    "\n",
    "## INFO: Per ottenere esattamente 121.037,50 $, posso forzare il tipo di dato del vettore a float64, che ha una maggiore precisione."
   ]
  },
  {
   "cell_type": "markdown",
   "metadata": {},
   "source": [
    "PUNTO 5: AUMENTO DEL 20 % PER L'IMPIEGATA CON LO STIPENDIO PIU' BASSO"
   ]
  },
  {
   "cell_type": "code",
   "execution_count": null,
   "metadata": {},
   "outputs": [
    {
     "name": "stdout",
     "output_type": "stream",
     "text": [
      "Vettore dopo l'aumento dell'impiegata: [ 60000.  121037.5  55000.   89000. ]\n"
     ]
    }
   ],
   "source": [
    "# Aumento del 20 % per l'impiegata (Indice 0 = 50.000 $)\n",
    "stipendi[0] = stipendi[0] * 1.20\n",
    "\n",
    "# Stampo il nuovo vettore\n",
    "print(\"Vettore dopo l'aumento dell'impiegata:\", stipendi)"
   ]
  },
  {
   "cell_type": "markdown",
   "metadata": {},
   "source": [
    "PUNTO 6: AUMENTO DEL 10 % PER GLI ALTRI DUE DIPENDENTI"
   ]
  },
  {
   "cell_type": "code",
   "execution_count": null,
   "metadata": {},
   "outputs": [
    {
     "name": "stdout",
     "output_type": "stream",
     "text": [
      "Vettore dopo l'aumento degli altri dipendenti: [ 60000.  121037.5  60500.   97900. ]\n"
     ]
    }
   ],
   "source": [
    "# Aumento del 10 % per i due dipendenti (Indice 2 = 55.000 $   e   Indice 3 = 89.000 $)\n",
    "stipendi[2] = stipendi[2] * 1.10\n",
    "stipendi[3] = stipendi[3] * 1.10\n",
    "\n",
    "# Stampo il nuovo vettore\n",
    "print(\"Vettore dopo l'aumento degli altri dipendenti:\", stipendi)"
   ]
  },
  {
   "cell_type": "markdown",
   "metadata": {},
   "source": [
    "PUNTO 7: CALCOLARE IL COSTO TOTALE DEL PERSONALE DOPO GLI AUMENTI E L'AUMENTO DI 16.000 $ DEL CEO."
   ]
  },
  {
   "cell_type": "code",
   "execution_count": null,
   "metadata": {},
   "outputs": [
    {
     "name": "stdout",
     "output_type": "stream",
     "text": [
      "Costo totale del personale dopo gli aumenti: 339437.5\n",
      "Aumento del CEO: 15787.5\n"
     ]
    }
   ],
   "source": [
    "# Utilizzo il vettore esistente degli stipendi\n",
    "stipendi = np.array([50000, 105250, 55000, 89000], dtype=np.float64)\n",
    "\n",
    "# Aumento del 15% per il CEO\n",
    "stipendi[1] = stipendi[1] * 1.15\n",
    "\n",
    "# Aumento del 20% per l'impiegata con lo stipendio più basso\n",
    "stipendi[0] = stipendi[0] * 1.20\n",
    "\n",
    "# Aumento del 10% per gli altri due dipendenti\n",
    "stipendi[2] = stipendi[2] * 1.10\n",
    "stipendi[3] = stipendi[3] * 1.10\n",
    "\n",
    "# Calcolo il costo totale del personale dopo gli aumenti\n",
    "costo_totale_aggiornato = np.sum(stipendi)\n",
    "\n",
    "# Calcolo l'aumento del CEO (arrotondato a due decimali)\n",
    "aumento_ceo = round(stipendi[1] - 105250, 2)\n",
    "\n",
    "# Stampo i risultati\n",
    "print(\"Costo totale del personale dopo gli aumenti:\", round(costo_totale_aggiornato, 2))\n",
    "print(\"Aumento del CEO:\", aumento_ceo)\n",
    "\n",
    "## INFO: round(): Serve per arrotondare correttamente i valori a due decimali\n"
   ]
  },
  {
   "cell_type": "markdown",
   "metadata": {},
   "source": [
    "### **6. Valori di Co2**\n",
    "\n",
    "1. Carica tramite numpy il file generato e salvato a lezione sulle emissioni di CO2\n",
    "\n",
    "2. Calcola quanti valori ci CO2 sono sopra la soglia di 18  tonnellate per anno ed il loro valore medio\n",
    "\n",
    "3. Calcola la frazione totale di emissione sopra la soglia (somma totale sopra la soglia/somma totale)"
   ]
  },
  {
   "cell_type": "markdown",
   "metadata": {},
   "source": [
    "CODICE PER GENERARE E SALVARE I DATI"
   ]
  },
  {
   "cell_type": "code",
   "execution_count": 1,
   "metadata": {},
   "outputs": [
    {
     "name": "stdout",
     "output_type": "stream",
     "text": [
      "File salvato in: emissioni.txt\n"
     ]
    }
   ],
   "source": [
    "import numpy as np\n",
    "\n",
    "# Generazione di 200 valori casuali di emissioni di CO2 in tonnellate per anno tra 4 e 20\n",
    "co2_emissioni = np.round(np.random.uniform(4, 20, 200), 2)\n",
    "\n",
    "# Nome del file di output\n",
    "output_file = \"emissioni.txt\"  # Salva il file nella cartella di lavoro corrente\n",
    "\n",
    "# Salvataggio dei dati su file\n",
    "np.savetxt(output_file, co2_emissioni, fmt=\"%.2f\")\n",
    "\n",
    "# Restituisco il percorso del file\n",
    "print(f\"File salvato in: {output_file}\")"
   ]
  },
  {
   "cell_type": "markdown",
   "metadata": {},
   "source": [
    "PUNTO 1: CARICA IL FILE DELLE EMISSIONI DI CO2"
   ]
  },
  {
   "cell_type": "code",
   "execution_count": null,
   "metadata": {},
   "outputs": [
    {
     "name": "stdout",
     "output_type": "stream",
     "text": [
      "[15.77 11.54  7.67 17.23  8.31 15.58 12.56 13.24 17.84  8.8 ]\n"
     ]
    }
   ],
   "source": [
    "import numpy as np\n",
    "\n",
    "# Carico il file delle emissioni di CO2\n",
    "co2_data = np.loadtxt('emissioni.txt')\n",
    "\n",
    "# Verifico che i dati siano stati caricati correttamente\n",
    "print(co2_data[:10])        # Stampo i primi 10 valori per verificare"
   ]
  },
  {
   "cell_type": "markdown",
   "metadata": {},
   "source": [
    "PUNTO 2: CALCOLA QUANTI VALORI DI CO2 SONO SOPRA LA SOGLIA DI 18 TONNELLATE PER ANNO E IL LORO VALORE MEDIO"
   ]
  },
  {
   "cell_type": "code",
   "execution_count": 11,
   "metadata": {},
   "outputs": [
    {
     "name": "stdout",
     "output_type": "stream",
     "text": [
      "Numero di valori sopra la soglia di 18 tonnellate: 29\n",
      "Valore medio delle emissioni sopra la soglia: 19.103103448275863\n"
     ]
    }
   ],
   "source": [
    "# Soglia di 18 tonnellate\n",
    "soglia = 18\n",
    "\n",
    "# Filtro i valori sopra la soglia\n",
    "co2_sopra_soglia = co2_data[co2_data > soglia]\n",
    "\n",
    "# Calcolo quanti valori sono sopra la soglia\n",
    "num_valori_sopra_soglia = len(co2_sopra_soglia)\n",
    "\n",
    "# Calcolo la media delle emissioni sopra la soglia\n",
    "media_sopra_soglia = np.mean(co2_sopra_soglia)\n",
    "\n",
    "# Stampo i risultati\n",
    "print(f\"Numero di valori sopra la soglia di {soglia} tonnellate: {num_valori_sopra_soglia}\")\n",
    "print(f\"Valore medio delle emissioni sopra la soglia: {media_sopra_soglia}\")"
   ]
  },
  {
   "cell_type": "markdown",
   "metadata": {},
   "source": [
    "PUNTO 3: CALCOLARE LA FRAZIONE TOTALE DI EMISSIONI SOPRA LA SOGLIA"
   ]
  },
  {
   "cell_type": "code",
   "execution_count": 13,
   "metadata": {},
   "outputs": [
    {
     "name": "stdout",
     "output_type": "stream",
     "text": [
      "Frazione totale di emissioni sopra la soglia: 0.2259\n"
     ]
    }
   ],
   "source": [
    "# Somma totale di tutte le emissioni\n",
    "somma_totale = np.sum(co2_data)\n",
    "\n",
    "# Somma delle emissioni sopra la soglia\n",
    "somma_sopra_soglia = np.sum(co2_sopra_soglia)\n",
    "\n",
    "# Calcolo la frazione\n",
    "frazione_sopra_soglia = somma_sopra_soglia / somma_totale\n",
    "\n",
    "# Stampo la frazione\n",
    "print(f\"Frazione totale di emissioni sopra la soglia: {frazione_sopra_soglia:.4f}\")\n",
    "\n",
    "## INFO: Frazione totale = somma totale sopra la soglia/somma totale"
   ]
  },
  {
   "cell_type": "markdown",
   "metadata": {},
   "source": [
    "### **7. Analisi di una matrice**\n",
    "Data la matrice survey con età, reddito e anni di istruzione\n",
    "\n",
    "survey_matrix = np.array([\n",
    "    [25, 40000, 10],\n",
    "    [32, 52000, 12],\n",
    "    [40, 63000, 14],\n",
    "    [29, 47000, 11],\n",
    "    [35, 58000, 13]\n",
    "])\n",
    "\n",
    "\n",
    "1. Seleziona dalla matrice solo gli intervistati con **almeno 12 anni di istruzione** utilizzando un test logico.\n",
    "\n",
    "2. In un'unica riga di codice, seleziona i **redditi** degli intervistati con **almeno 12 anni di istruzione**.\n",
    "\n",
    "3. In un'unica riga di codice, calcola il **reddito medio** degli intervistati con **almeno 12 anni di istruzione**.\n"
   ]
  },
  {
   "cell_type": "markdown",
   "metadata": {},
   "source": [
    "PUNTO 1: SELEZIONARE GLI INTERVISTATI CON ALMENO 12 ANNI DI ISTRUZIONE"
   ]
  },
  {
   "cell_type": "code",
   "execution_count": 16,
   "metadata": {},
   "outputs": [
    {
     "name": "stdout",
     "output_type": "stream",
     "text": [
      "Intervistati con almeno 12 anni di istruzione:\n",
      "[[   32 52000    12]\n",
      " [   40 63000    14]\n",
      " [   35 58000    13]]\n"
     ]
    }
   ],
   "source": [
    "import numpy as np\n",
    "\n",
    "# Matrice survey\n",
    "survey_matrix = np.array([\n",
    "    [25, 40000, 10],\n",
    "    [32, 52000, 12],\n",
    "    [40, 63000, 14],\n",
    "    [29, 47000, 11],\n",
    "    [35, 58000, 13]\n",
    "])\n",
    "\n",
    "# Seleziono gli intervistati con almeno 12 anni di istruzione\n",
    "intervistati_12_anni = survey_matrix[survey_matrix[:, 2] >= 12]\n",
    "\n",
    "# Stampo i risultati\n",
    "print(\"Intervistati con almeno 12 anni di istruzione:\")\n",
    "print(intervistati_12_anni)\n",
    "\n",
    "\n",
    "## INFO: In questo caso, voglio selezionare solo le righe della matrice in cui \n",
    "#        l'elemento nella terza colonna (che rappresenta gli anni di istruzione) è maggiore o uguale a 12."
   ]
  },
  {
   "cell_type": "markdown",
   "metadata": {},
   "source": [
    "PUNTO 2: SELEZIONARE SOLO IL REDDITO DEGLI INTERVISTATI CON ALMENO 12 ANNI DI ISTRUZIONE"
   ]
  },
  {
   "cell_type": "code",
   "execution_count": 18,
   "metadata": {},
   "outputs": [
    {
     "name": "stdout",
     "output_type": "stream",
     "text": [
      "Redditi degli intervistati con almeno 12 anni di istruzione:\n",
      "[52000 63000 58000]\n"
     ]
    }
   ],
   "source": [
    "# Seleziono i redditi degli intervistati con almeno 12 anni di istruzione\n",
    "redditi_12_anni = survey_matrix[survey_matrix[:, 2] >= 12, 1]\n",
    "\n",
    "# Stampo i risultati\n",
    "print(\"Redditi degli intervistati con almeno 12 anni di istruzione:\")\n",
    "print(redditi_12_anni)\n",
    "\n",
    "## INFO: Simile al precedente , ma in questo caso seleziono solo la colonna corrispondente al reddito (2°)"
   ]
  },
  {
   "cell_type": "markdown",
   "metadata": {},
   "source": [
    "PUNTO 3: CALCOLARE IL REDDITO MEDIO DEGLI INTERVISTATI CON ALMENO 12 ANNI DI ISTRUZIONE"
   ]
  },
  {
   "cell_type": "code",
   "execution_count": 20,
   "metadata": {},
   "outputs": [
    {
     "name": "stdout",
     "output_type": "stream",
     "text": [
      "Reddito medio degli intervistati con almeno 12 anni di istruzione: 57666.67\n"
     ]
    }
   ],
   "source": [
    "# Calcolo il reddito medio (a 2 cifre decimali)\n",
    "reddito_medio_12_anni = round(np.mean(redditi_12_anni), 2)\n",
    "\n",
    "# Stampo il risultato\n",
    "print(f\"Reddito medio degli intervistati con almeno 12 anni di istruzione: {reddito_medio_12_anni}\")"
   ]
  },
  {
   "cell_type": "markdown",
   "metadata": {},
   "source": [
    "### **8. Rimpiazzare gli outliers**\n",
    "\n",
    "Vediamo se possiamo ripulire alcuni dati mancanti. Immagina di essere il responsabile dei registri di un comune locale con **500 cittadini** di **55 anni e oltre**.  \n",
    "\n",
    "La città è famosa per la sua longevità e un team di ricercatori ti ha chiesto di identificare **il cittadino più anziano**.  \n",
    "\n",
    "Il problema è che, occasionalmente, nei registri si verificano errori e in quei casi viene inserita l'età **999** invece dell'età corretta.  \n",
    "\n",
    "Rimuovi i dati errati dall'array e determina l'età del cittadino più anziano.\n"
   ]
  },
  {
   "cell_type": "code",
   "execution_count": 18,
   "metadata": {},
   "outputs": [],
   "source": [
    "ages = np.array([92, 108, 75, 63, 62, 66, 90, 98, 97, 92, 60, 107, 90, 71, 97, 86, 55, 55,\n",
    "                 98, 57, 96, 104, 96, 94, 72, 98, 111, 98, 89, 69, 77, 92, 85, 101, 93, 100,\n",
    "                 90, 101, 96, 98, 999, 87, 106, 86, 108, 55, 67, 65, 68, 59, 67, 72, 57, 79,\n",
    "                 95, 67, 86, 70, 91, 111, 67, 75, 59, 88, 90, 99, 94, 65, 111, 103, 100, 70,\n",
    "                 63, 65, 100, 110, 999, 70, 57, 75, 56, 104, 111, 90, 74, 100, 90, 86, 88, 99,\n",
    "                 58, 103, 88, 103, 64, 96, 105, 89, 83, 65, 100, 62, 73, 105, 83, 105, 58, 96,\n",
    "                 77, 74, 95, 109, 91, 101, 91, 999, 63, 111, 97, 108, 75, 77, 73, 58, 94, 83,\n",
    "                 90, 61, 110, 107, 105, 85, 64, 66, 71, 107, 105, 72, 78, 66, 100, 102, 72, 999,\n",
    "                 74, 68, 73, 72, 90, 93, 99, 55, 92, 83, 58, 71, 89, 75, 98, 87, 999, 78,\n",
    "                 97, 71, 106, 83, 58, 81, 100, 72, 93, 70, 65, 60, 95, 107, 94, 77, 87, 90,\n",
    "                 82, 56, 99, 107, 86, 56, 73, 96, 64, 69, 64, 92, 57, 104, 110, 69, 66, 68,\n",
    "                 84, 89, 72, 80, 55, 75, 87, 57, 106, 69, 66, 62, 102, 76, 111, 999, 96, 83,\n",
    "                 84, 61, 102, 63, 107, 63, 76, 58, 83, 58, 61, 71, 77, 90, 74, 100, 103, 74,\n",
    "                 92, 102, 63, 87, 93, 61, 63, 86, 74, 98, 64, 999, 78, 95, 84, 81, 107, 85,\n",
    "                 79, 82, 89, 65, 107, 57, 74, 77, 97, 92, 58, 96, 105, 60, 55, 74, 57, 80,\n",
    "                 62, 85, 87, 62, 999, 71, 74, 70, 97, 59, 82, 96, 105, 70, 89, 105, 60, 70,\n",
    "                 87, 999, 64, 108, 107, 104, 85, 95, 108, 74, 64, 97, 89, 88, 79, 67, 81, 92,\n",
    "                 63, 80, 76, 94, 104, 67, 73, 61, 99, 96, 68, 90, 86, 79, 85, 111, 75, 98,\n",
    "                 81, 111, 108, 103, 85, 72, 108, 102, 999, 64, 107, 112, 66, 93, 89, 78, 66, 92,\n",
    "                 63, 101, 92, 64, 72, 56, 71, 64, 87, 78, 107, 85, 109, 95, 69, 111, 64, 72,\n",
    "                 55, 66, 99, 57, 78, 55, 58, 90, 88, 71, 90, 103, 92, 98, 67, 97, 77, 68,\n",
    "                 77, 59, 78, 69, 77, 81, 61, 99, 999, 85, 78, 104, 97, 95, 74, 70, 69, 83,\n",
    "                 68, 68, 77, 60, 85, 82, 93, 66, 71, 62, 64, 107, 999, 65, 78, 59, 83, 67,\n",
    "                 108,  58,  95, 106,  83,  79,  67,  59,  96,  90,  55,  55,  96, 109,  82,  55, 101,  58,\n",
    "                 97, 77, 60, 81, 999, 81, 75, 100, 66, 65, 105, 94, 101, 56, 999, 59, 105, 59,\n",
    "                 93, 56, 104, 74, 81, 62, 76, 65, 107, 60, 107, 98, 77, 86, 83, 104, 74, 69,\n",
    "                 97, 80, 91, 56, 108, 87, 65, 91, 93, 60, 91, 110, 107, 88, 96, 70, 60, 99,\n",
    "                 66, 91, 107, 65, 81, 109, 84, 106, 80, 92, 78, 84, 91, 59])"
   ]
  },
  {
   "cell_type": "code",
   "execution_count": 1,
   "metadata": {},
   "outputs": [
    {
     "name": "stdout",
     "output_type": "stream",
     "text": [
      "L'età del cittadino più anziano è: 112\n"
     ]
    }
   ],
   "source": [
    "import numpy as np\n",
    "\n",
    "# Dati dell'età\n",
    "ages = np.array([92, 108, 75, 63, 62, 66, 90, 98, 97, 92, 60, 107, 90, 71, 97, 86, 55, 55,\n",
    "                 98, 57, 96, 104, 96, 94, 72, 98, 111, 98, 89, 69, 77, 92, 85, 101, 93, 100,\n",
    "                 90, 101, 96, 98, 999, 87, 106, 86, 108, 55, 67, 65, 68, 59, 67, 72, 57, 79,\n",
    "                 95, 67, 86, 70, 91, 111, 67, 75, 59, 88, 90, 99, 94, 65, 111, 103, 100, 70,\n",
    "                 63, 65, 100, 110, 999, 70, 57, 75, 56, 104, 111, 90, 74, 100, 90, 86, 88, 99,\n",
    "                 58, 103, 88, 103, 64, 96, 105, 89, 83, 65, 100, 62, 73, 105, 83, 105, 58, 96,\n",
    "                 77, 74, 95, 109, 91, 101, 91, 999, 63, 111, 97, 108, 75, 77, 73, 58, 94, 83,\n",
    "                 90, 61, 110, 107, 105, 85, 64, 66, 71, 107, 105, 72, 78, 66, 100, 102, 72, 999,\n",
    "                 74, 68, 73, 72, 90, 93, 99, 55, 92, 83, 58, 71, 89, 75, 98, 87, 999, 78,\n",
    "                 97, 71, 106, 83, 58, 81, 100, 72, 93, 70, 65, 60, 95, 107, 94, 77, 87, 90,\n",
    "                 82, 56, 99, 107, 86, 56, 73, 96, 64, 69, 64, 92, 57, 104, 110, 69, 66, 68,\n",
    "                 84, 89, 72, 80, 55, 75, 87, 57, 106, 69, 66, 62, 102, 76, 111, 999, 96, 83,\n",
    "                 84, 61, 102, 63, 107, 63, 76, 58, 83, 58, 61, 71, 77, 90, 74, 100, 103, 74,\n",
    "                 92, 102, 63, 87, 93, 61, 63, 86, 74, 98, 64, 999, 78, 95, 84, 81, 107, 85,\n",
    "                 79, 82, 89, 65, 107, 57, 74, 77, 97, 92, 58, 96, 105, 60, 55, 74, 57, 80,\n",
    "                 62, 85, 87, 62, 999, 71, 74, 70, 97, 59, 82, 96, 105, 70, 89, 105, 60, 70,\n",
    "                 87, 999, 64, 108, 107, 104, 85, 95, 108, 74, 64, 97, 89, 88, 79, 67, 81, 92,\n",
    "                 63, 80, 76, 94, 104, 67, 73, 61, 99, 96, 68, 90, 86, 79, 85, 111, 75, 98,\n",
    "                 81, 111, 108, 103, 85, 72, 108, 102, 999, 64, 107, 112, 66, 93, 89, 78, 66, 92,\n",
    "                 63, 101, 92, 64, 72, 56, 71, 64, 87, 78, 107, 85, 109, 95, 69, 111, 64, 72,\n",
    "                 55, 66, 99, 57, 78, 55, 58, 90, 88, 71, 90, 103, 92, 98, 67, 97, 77, 68,\n",
    "                 77, 59, 78, 69, 77, 81, 61, 99, 999, 85, 78, 104, 97, 95, 74, 70, 69, 83,\n",
    "                 68, 68, 77, 60, 85, 82, 93, 66, 71, 62, 64, 107, 999, 65, 78, 59, 83, 67,\n",
    "                 108,  58,  95, 106,  83,  79,  67,  59,  96,  90, 55, 55, 96, 109,  82, 55, 101,  58,\n",
    "                 97, 77, 60, 81, 999, 81, 75, 100, 66, 65, 105, 94, 101, 56, 999, 59, 105, 59,\n",
    "                 93, 56, 104, 74, 81, 62, 76, 65, 107, 60, 107, 98, 77, 86, 83, 104, 74, 69,\n",
    "                 97, 80, 91, 56, 108, 87, 65, 91, 93, 60, 91, 110, 107, 88, 96, 70, 60, 99,\n",
    "                 66, 91, 107, 65, 81, 109, 84, 106, 80, 92, 78, 84, 91, 59])\n",
    "\n",
    "# 1. Rimuovo i valori errati (999)\n",
    "valid_ages = ages[ages != 999]\n",
    "\n",
    "# 2. Determino l'età del cittadino più anziano\n",
    "oldest_age = np.max(valid_ages)\n",
    "\n",
    "# Stampo i risultati\n",
    "print(f\"L'età del cittadino più anziano è: {oldest_age}\")\n"
   ]
  },
  {
   "cell_type": "markdown",
   "metadata": {},
   "source": [
    "### 9.**Generazione random di storie**\n",
    "\n",
    "Usando la lista qui sotto, estrai casualmente **5 parole con reinserimento** (cioè, i duplicati sono ammessi).  \n",
    "\n",
    "Successivamente, inserisci casualmente queste parole negli spazi vuoti (indicati con \"_\") nella seguente frase:\n",
    "\n",
    "*\"In epoche passate, viveva una donna saggia che era molto orgogliosa dell'antico __ che proteggeva. Quando un anziano del villaggio venne a chiederle consiglio su come garantire al meglio un raccolto abbondante e le offrì il __ come dono, i suoi occhi si spalancarono e lei esclamò una sola parola, \"__\".  \n",
    "Radunò il villaggio e, per i successivi 100 giorni, su sua richiesta, gli abitanti cercarono nella foresta un __.  \n",
    "Nel 101° giorno, il bambino più giovane del villaggio trovò ciò che stavano cercando e tutti corsero dalla donna saggia per donarglielo.  \n",
    "Con un sorriso da un orecchio all’altro, e cantando canti di festa, la donna saggia guardò i suoi compaesani e disse: \"Ora è giunto il tempo del banchetto - nessuno rimarrà mai più senza _!\" Ci fu grande gioia e celebrazione.\"*\n"
   ]
  },
  {
   "cell_type": "code",
   "execution_count": 28,
   "metadata": {},
   "outputs": [],
   "source": [
    "lista_parole = [\n",
    "    'INSEDIAMENTO', 'SEPARAZIONE', 'DIFFERENZA', 'APPLICAZIONE', 'ATTEGGIAMENTO', 'VERDURA', 'IMPERO', 'RICEVIMENTO',\n",
    "    'IGNORANZA', 'BIOGRAFIA', 'VISIONE', 'AGENTE DI POLIZIA', 'PROVA', 'PRESTAZIONE', 'PRESENTAZIONE', 'PARENTE',\n",
    "    'GIUSTIFICAZIONE', 'FILOSOFIA', 'DIREZIONE', 'BENEFICIARIO', 'BATTERIA', 'CERIMONIA', 'AGONIA', 'RECUPERO',\n",
    "    'ALFABETIZZAZIONE', 'CONSEGNA', 'SERBATOIO', 'VOLONTARIO', 'DEPOSITO', 'BIRILLO DA BOWLING', 'NEMICO', 'ANNUNCIO',\n",
    "    'CARAMELLA ZUCCHERATA', 'FULMINE', 'PALLONCINO', 'COPERTA', 'SCOPERTA', 'PENALITÀ', 'GENERALE', 'ALPACA',\n",
    "    'VANTAGGIO', 'HOT DOG', 'ABITO', 'MATEMATICA', 'VARIANTE'\n",
    "]\n",
    "\n"
   ]
  },
  {
   "cell_type": "code",
   "execution_count": null,
   "metadata": {},
   "outputs": [],
   "source": []
  },
  {
   "cell_type": "markdown",
   "metadata": {},
   "source": [
    "Esempio di output\n",
    "\n",
    "\n",
    "\"In epoche passate, viveva una donna saggia che era molto orgogliosa dell'antico APPLICAZIONE che proteggeva. \n",
    "Quando un anziano del villaggio venne a chiederle consiglio su come garantire al meglio un raccolto abbondante \n",
    "e le offrì il DEPOSITO come dono, i suoi occhi si spalancarono e lei esclamò una sola parola, \"PRESTAZIONE\".  \n",
    "\n",
    "Radunò il villaggio e, per i successivi 100 giorni, su sua richiesta, gli abitanti cercarono nella foresta un BIRILLO DA BOWLING. \n",
    "Nel 101° giorno, il bambino più giovane del villaggio trovò ciò che stavano cercando e tutti corsero dalla donna saggia per donarglielo. \n",
    "Con un sorriso da un orecchio all’altro, e cantando canti di festa, la donna saggia guardò i suoi compaesani e disse: \n",
    "\"Ora è giunto il tempo del banchetto - nessuno rimarrà mai più senza GIUSTIFICAZIONE!\"  \n",
    "\n",
    "Ci fu grande gioia e celebrazione.\""
   ]
  },
  {
   "cell_type": "code",
   "execution_count": null,
   "metadata": {},
   "outputs": [],
   "source": []
  }
 ],
 "metadata": {
  "kernelspec": {
   "display_name": "Programming_LAB",
   "language": "python",
   "name": "python3"
  },
  "language_info": {
   "codemirror_mode": {
    "name": "ipython",
    "version": 3
   },
   "file_extension": ".py",
   "mimetype": "text/x-python",
   "name": "python",
   "nbconvert_exporter": "python",
   "pygments_lexer": "ipython3",
   "version": "3.9.21"
  }
 },
 "nbformat": 4,
 "nbformat_minor": 2
}
