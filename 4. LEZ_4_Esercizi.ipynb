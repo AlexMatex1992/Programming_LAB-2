{
 "cells": [
  {
   "cell_type": "markdown",
   "metadata": {},
   "source": [
    "## 1. La legge dei grandi numeri\n",
    "\n",
    "La legge dei grandi numeri è un teorema fondamentale della teoria della probabilità che indica che se ripetiamo molte volte (tendendo all'infinito) lo stesso esperimento, la frequenza di un certo evento tende ad essere costante.\n",
    "\n",
    "Vale a dire, **la legge dei grandi numeri indica che se lo stesso test viene eseguito ripetutamente (ad esempio, lancio di una moneta), la frequenza con cui si ripeterà un determinato evento (testa/croce) si avvicinerà a una costante. Questa a sua volta sarà la probabilità che questo evento si verifichi.**\n",
    "\n",
    "Fonte: https://it.economy-pedia.com/11038376-law-of-the-big-numbers\n",
    "\n",
    "1. Scrivere una funzione che simula il lancio di una moneta per N volte e restituisce la frequenza % di volte che è uscita testa.\n",
    "2. Calcolare la frequenza % con la grandezze del campione (numero di lanci) che varia 100 volte da 10 a 20000. Ottengo quindi 100 valori.\n",
    "3. Fare il plot del Numero medio di teste (y) rispetto alla grandezza del campione (x)\n",
    "\n",
    "\n",
    "\n"
   ]
  },
  {
   "cell_type": "markdown",
   "metadata": {},
   "source": [
    "Punto 1: Funzione per simulare il lancio della moneta"
   ]
  },
  {
   "cell_type": "code",
   "execution_count": 6,
   "metadata": {},
   "outputs": [
    {
     "name": "stdout",
     "output_type": "stream",
     "text": [
      "Percentuale di teste su 1000 lanci: 50.2%\n"
     ]
    }
   ],
   "source": [
    "import random\n",
    "import matplotlib.pyplot as plt\n",
    "\n",
    "# Funzione per simulare il lancio della moneta\n",
    "def lancia_moneta(N):\n",
    "    esiti = [random.choice(['testa', 'croce']) for _ in range(N)]\n",
    "    testa_count = esiti.count ('testa')\n",
    "    return (testa_count / N) * 100              # Restituisce la % di teste\n",
    "\n",
    "# Provo con un esempio\n",
    "risultato = lancia_moneta(1000)\n",
    "print(f\"Percentuale di teste su 1000 lanci: {risultato}%\")"
   ]
  },
  {
   "cell_type": "markdown",
   "metadata": {},
   "source": [
    "Punto 2: Calcolare la frequenza % di testa per diversi valori di campione"
   ]
  },
  {
   "cell_type": "code",
   "execution_count": 11,
   "metadata": {},
   "outputs": [
    {
     "name": "stdout",
     "output_type": "stream",
     "text": [
      "N = 10 lanci -> Frequenza di teste: 50.00%\n",
      "N = 211 lanci -> Frequenza di teste: 50.71%\n",
      "N = 413 lanci -> Frequenza di teste: 50.36%\n",
      "N = 615 lanci -> Frequenza di teste: 48.94%\n",
      "N = 817 lanci -> Frequenza di teste: 49.33%\n",
      "N = 1019 lanci -> Frequenza di teste: 51.82%\n",
      "N = 1221 lanci -> Frequenza di teste: 54.05%\n",
      "N = 1423 lanci -> Frequenza di teste: 49.68%\n",
      "N = 1625 lanci -> Frequenza di teste: 50.58%\n",
      "N = 1827 lanci -> Frequenza di teste: 50.74%\n",
      "N = 2029 lanci -> Frequenza di teste: 50.07%\n",
      "N = 2231 lanci -> Frequenza di teste: 50.29%\n",
      "N = 2433 lanci -> Frequenza di teste: 49.36%\n",
      "N = 2634 lanci -> Frequenza di teste: 50.46%\n",
      "N = 2836 lanci -> Frequenza di teste: 51.20%\n",
      "N = 3038 lanci -> Frequenza di teste: 50.56%\n",
      "N = 3240 lanci -> Frequenza di teste: 50.62%\n",
      "N = 3442 lanci -> Frequenza di teste: 48.55%\n",
      "N = 3644 lanci -> Frequenza di teste: 50.93%\n",
      "N = 3846 lanci -> Frequenza di teste: 50.52%\n",
      "N = 4048 lanci -> Frequenza di teste: 49.75%\n",
      "N = 4250 lanci -> Frequenza di teste: 49.20%\n",
      "N = 4452 lanci -> Frequenza di teste: 50.13%\n",
      "N = 4654 lanci -> Frequenza di teste: 50.54%\n",
      "N = 4856 lanci -> Frequenza di teste: 49.73%\n",
      "N = 5057 lanci -> Frequenza di teste: 51.51%\n",
      "N = 5259 lanci -> Frequenza di teste: 49.57%\n",
      "N = 5461 lanci -> Frequenza di teste: 48.84%\n",
      "N = 5663 lanci -> Frequenza di teste: 49.48%\n",
      "N = 5865 lanci -> Frequenza di teste: 49.51%\n",
      "N = 6067 lanci -> Frequenza di teste: 49.41%\n",
      "N = 6269 lanci -> Frequenza di teste: 49.51%\n",
      "N = 6471 lanci -> Frequenza di teste: 49.51%\n",
      "N = 6673 lanci -> Frequenza di teste: 49.56%\n",
      "N = 6875 lanci -> Frequenza di teste: 50.41%\n",
      "N = 7077 lanci -> Frequenza di teste: 50.15%\n",
      "N = 7279 lanci -> Frequenza di teste: 50.39%\n",
      "N = 7481 lanci -> Frequenza di teste: 50.42%\n",
      "N = 7682 lanci -> Frequenza di teste: 49.11%\n",
      "N = 7884 lanci -> Frequenza di teste: 49.63%\n",
      "N = 8086 lanci -> Frequenza di teste: 49.99%\n",
      "N = 8288 lanci -> Frequenza di teste: 50.19%\n",
      "N = 8490 lanci -> Frequenza di teste: 50.41%\n",
      "N = 8692 lanci -> Frequenza di teste: 50.06%\n",
      "N = 8894 lanci -> Frequenza di teste: 50.25%\n",
      "N = 9096 lanci -> Frequenza di teste: 50.41%\n",
      "N = 9298 lanci -> Frequenza di teste: 49.95%\n",
      "N = 9500 lanci -> Frequenza di teste: 50.56%\n",
      "N = 9702 lanci -> Frequenza di teste: 49.46%\n",
      "N = 9904 lanci -> Frequenza di teste: 49.69%\n",
      "N = 10105 lanci -> Frequenza di teste: 49.87%\n",
      "N = 10307 lanci -> Frequenza di teste: 49.80%\n",
      "N = 10509 lanci -> Frequenza di teste: 49.83%\n",
      "N = 10711 lanci -> Frequenza di teste: 49.12%\n",
      "N = 10913 lanci -> Frequenza di teste: 49.53%\n",
      "N = 11115 lanci -> Frequenza di teste: 49.97%\n",
      "N = 11317 lanci -> Frequenza di teste: 49.75%\n",
      "N = 11519 lanci -> Frequenza di teste: 50.23%\n",
      "N = 11721 lanci -> Frequenza di teste: 50.56%\n",
      "N = 11923 lanci -> Frequenza di teste: 50.31%\n",
      "N = 12125 lanci -> Frequenza di teste: 49.32%\n",
      "N = 12327 lanci -> Frequenza di teste: 49.97%\n",
      "N = 12528 lanci -> Frequenza di teste: 50.55%\n",
      "N = 12730 lanci -> Frequenza di teste: 50.06%\n",
      "N = 12932 lanci -> Frequenza di teste: 50.07%\n",
      "N = 13134 lanci -> Frequenza di teste: 49.64%\n",
      "N = 13336 lanci -> Frequenza di teste: 50.37%\n",
      "N = 13538 lanci -> Frequenza di teste: 49.72%\n",
      "N = 13740 lanci -> Frequenza di teste: 49.67%\n",
      "N = 13942 lanci -> Frequenza di teste: 50.11%\n",
      "N = 14144 lanci -> Frequenza di teste: 49.62%\n",
      "N = 14346 lanci -> Frequenza di teste: 50.23%\n",
      "N = 14548 lanci -> Frequenza di teste: 49.75%\n",
      "N = 14750 lanci -> Frequenza di teste: 49.85%\n",
      "N = 14952 lanci -> Frequenza di teste: 50.38%\n",
      "N = 15153 lanci -> Frequenza di teste: 49.98%\n",
      "N = 15355 lanci -> Frequenza di teste: 51.12%\n",
      "N = 15557 lanci -> Frequenza di teste: 50.54%\n",
      "N = 15759 lanci -> Frequenza di teste: 49.40%\n",
      "N = 15961 lanci -> Frequenza di teste: 49.91%\n",
      "N = 16163 lanci -> Frequenza di teste: 49.85%\n",
      "N = 16365 lanci -> Frequenza di teste: 49.58%\n",
      "N = 16567 lanci -> Frequenza di teste: 49.51%\n",
      "N = 16769 lanci -> Frequenza di teste: 50.04%\n",
      "N = 16971 lanci -> Frequenza di teste: 49.47%\n",
      "N = 17173 lanci -> Frequenza di teste: 50.29%\n",
      "N = 17375 lanci -> Frequenza di teste: 49.69%\n",
      "N = 17576 lanci -> Frequenza di teste: 50.30%\n",
      "N = 17778 lanci -> Frequenza di teste: 50.04%\n",
      "N = 17980 lanci -> Frequenza di teste: 49.74%\n",
      "N = 18182 lanci -> Frequenza di teste: 50.18%\n",
      "N = 18384 lanci -> Frequenza di teste: 49.88%\n",
      "N = 18586 lanci -> Frequenza di teste: 50.09%\n",
      "N = 18788 lanci -> Frequenza di teste: 49.70%\n",
      "N = 18990 lanci -> Frequenza di teste: 49.91%\n",
      "N = 19192 lanci -> Frequenza di teste: 50.63%\n",
      "N = 19394 lanci -> Frequenza di teste: 49.95%\n",
      "N = 19596 lanci -> Frequenza di teste: 50.15%\n",
      "N = 19798 lanci -> Frequenza di teste: 49.93%\n",
      "N = 20000 lanci -> Frequenza di teste: 50.36%\n"
     ]
    }
   ],
   "source": [
    "import numpy as np\n",
    "\n",
    "# Creo 100 valori equidistanti tra 10 e 20.000\n",
    "num_lanci = np.linspace(10, 20000, 100, dtype = int)        # 100 valori equidistanti tra 10 e 20.000\n",
    "\n",
    "# Calcolo la frequenza di testa per ciascun valore di N\n",
    "frequenze_testa = [lancia_moneta(N) for N in num_lanci]\n",
    "\n",
    "# Stampo i risultati \n",
    "for i, frequenza in enumerate(frequenze_testa):\n",
    "    print(f\"N = {num_lanci[i]} lanci -> Frequenza di teste: {frequenza:.2f}%\")\n",
    "\n",
    "## INFO: np.linspace(start, stop, num): Genera 'num' valori equidistanti tra 'start' e 'stop'.\n",
    "#                                       In questo caso, genera 100 valori tra 10 e 20.000.\n"
   ]
  },
  {
   "cell_type": "markdown",
   "metadata": {},
   "source": [
    "Punto 3: Fare il plot del numero medio medio teste (y), rispetto alla grandezza del campione (x)"
   ]
  },
  {
   "cell_type": "code",
   "execution_count": 14,
   "metadata": {},
   "outputs": [
    {
     "data": {
      "image/png": "[encoded data removed]",
      "text/plain": [
       "<Figure size 1000x600 with 1 Axes>"
      ]
     },
     "metadata": {},
     "output_type": "display_data"
    }
   ],
   "source": [
    "# Creo il grafico\n",
    "plt.figure(figsize=(10, 6))\n",
    "\n",
    "# Traccio il numero medio di teste (y) rispetto alla randezza del campione (x)\n",
    "plt.plot(num_lanci, frequenze_testa, color = 'blue', marker = 'o')\n",
    "\n",
    "# Aggiungo il titolo e le etichette per gli assi\n",
    "plt.title('Numero Medio di Teste vs Grandezza del Campione', fontsize=14)\n",
    "plt.xlabel('Grandezza del Campione (N)', fontsize=12)\n",
    "plt.ylabel('Numero Medio di Teste (%)', fontsize=12)\n",
    "\n",
    "# Mostro la griglia e il grafico\n",
    "plt.grid(True)\n",
    "plt.tight_layout()\n",
    "plt.show()"
   ]
  },
  {
   "cell_type": "markdown",
   "metadata": {},
   "source": [
    "## 2. Analisi del Dataset Titanic\n",
    "1. Quante righe e colonne ha il dataset?\n",
    "2. Controlla quanti valori mancanti ci sono per colonna\n",
    "3. Riempi i valori mancanti nella colonna 'Embarked' con il valore più frequente\n",
    "4. Rimuovi le righe dove il valore di 'Age' è mancante\n",
    "5. Controlla se ci sono righe duplicate\n",
    "6. Calcola l'età media dei passeggeri per ogni classe (`Pclass`), se ci sono valori mancanti di età riempili con il valore medio\n",
    "7. Visualizza la distribuzione dell'età per classe\n",
    "8. Visualizza la distribuzione dell'età per classe dividendo e mostrando insieme i dati di uomini e donne"
   ]
  },
  {
   "cell_type": "code",
   "execution_count": 18,
   "metadata": {},
   "outputs": [
    {
     "data": {
      "text/html": [
       "<div>\n",
       "<style scoped>\n",
       "    .dataframe tbody tr th:only-of-type {\n",
       "        vertical-align: middle;\n",
       "    }\n",
       "\n",
       "    .dataframe tbody tr th {\n",
       "        vertical-align: top;\n",
       "    }\n",
       "\n",
       "    .dataframe thead th {\n",
       "        text-align: right;\n",
       "    }\n",
       "</style>\n",
       "<table border=\"1\" class=\"dataframe\">\n",
       "  <thead>\n",
       "    <tr style=\"text-align: right;\">\n",
       "      <th></th>\n",
       "      <th>PassengerId</th>\n",
       "      <th>Survived</th>\n",
       "      <th>Pclass</th>\n",
       "      <th>Name</th>\n",
       "      <th>Sex</th>\n",
       "      <th>Age</th>\n",
       "      <th>SibSp</th>\n",
       "      <th>Parch</th>\n",
       "      <th>Ticket</th>\n",
       "      <th>Fare</th>\n",
       "      <th>Cabin</th>\n",
       "      <th>Embarked</th>\n",
       "    </tr>\n",
       "  </thead>\n",
       "  <tbody>\n",
       "    <tr>\n",
       "      <th>0</th>\n",
       "      <td>1</td>\n",
       "      <td>0</td>\n",
       "      <td>3</td>\n",
       "      <td>Braund, Mr. Owen Harris</td>\n",
       "      <td>male</td>\n",
       "      <td>22.0</td>\n",
       "      <td>1</td>\n",
       "      <td>0</td>\n",
       "      <td>A/5 21171</td>\n",
       "      <td>7.2500</td>\n",
       "      <td>NaN</td>\n",
       "      <td>S</td>\n",
       "    </tr>\n",
       "    <tr>\n",
       "      <th>1</th>\n",
       "      <td>2</td>\n",
       "      <td>1</td>\n",
       "      <td>1</td>\n",
       "      <td>Cumings, Mrs. John Bradley (Florence Briggs Th...</td>\n",
       "      <td>female</td>\n",
       "      <td>38.0</td>\n",
       "      <td>1</td>\n",
       "      <td>0</td>\n",
       "      <td>PC 17599</td>\n",
       "      <td>71.2833</td>\n",
       "      <td>C85</td>\n",
       "      <td>C</td>\n",
       "    </tr>\n",
       "    <tr>\n",
       "      <th>2</th>\n",
       "      <td>3</td>\n",
       "      <td>1</td>\n",
       "      <td>3</td>\n",
       "      <td>Heikkinen, Miss. Laina</td>\n",
       "      <td>female</td>\n",
       "      <td>26.0</td>\n",
       "      <td>0</td>\n",
       "      <td>0</td>\n",
       "      <td>STON/O2. 3101282</td>\n",
       "      <td>7.9250</td>\n",
       "      <td>NaN</td>\n",
       "      <td>S</td>\n",
       "    </tr>\n",
       "    <tr>\n",
       "      <th>3</th>\n",
       "      <td>4</td>\n",
       "      <td>1</td>\n",
       "      <td>1</td>\n",
       "      <td>Futrelle, Mrs. Jacques Heath (Lily May Peel)</td>\n",
       "      <td>female</td>\n",
       "      <td>35.0</td>\n",
       "      <td>1</td>\n",
       "      <td>0</td>\n",
       "      <td>113803</td>\n",
       "      <td>53.1000</td>\n",
       "      <td>C123</td>\n",
       "      <td>S</td>\n",
       "    </tr>\n",
       "    <tr>\n",
       "      <th>4</th>\n",
       "      <td>5</td>\n",
       "      <td>0</td>\n",
       "      <td>3</td>\n",
       "      <td>Allen, Mr. William Henry</td>\n",
       "      <td>male</td>\n",
       "      <td>35.0</td>\n",
       "      <td>0</td>\n",
       "      <td>0</td>\n",
       "      <td>373450</td>\n",
       "      <td>8.0500</td>\n",
       "      <td>NaN</td>\n",
       "      <td>S</td>\n",
       "    </tr>\n",
       "  </tbody>\n",
       "</table>\n",
       "</div>"
      ],
      "text/plain": [
       "   PassengerId  Survived  Pclass  \\\n",
       "0            1         0       3   \n",
       "1            2         1       1   \n",
       "2            3         1       3   \n",
       "3            4         1       1   \n",
       "4            5         0       3   \n",
       "\n",
       "                                                Name     Sex   Age  SibSp  \\\n",
       "0                            Braund, Mr. Owen Harris    male  22.0      1   \n",
       "1  Cumings, Mrs. John Bradley (Florence Briggs Th...  female  38.0      1   \n",
       "2                             Heikkinen, Miss. Laina  female  26.0      0   \n",
       "3       Futrelle, Mrs. Jacques Heath (Lily May Peel)  female  35.0      1   \n",
       "4                           Allen, Mr. William Henry    male  35.0      0   \n",
       "\n",
       "   Parch            Ticket     Fare Cabin Embarked  \n",
       "0      0         A/5 21171   7.2500   NaN        S  \n",
       "1      0          PC 17599  71.2833   C85        C  \n",
       "2      0  STON/O2. 3101282   7.9250   NaN        S  \n",
       "3      0            113803  53.1000  C123        S  \n",
       "4      0            373450   8.0500   NaN        S  "
      ]
     },
     "execution_count": 18,
     "metadata": {},
     "output_type": "execute_result"
    }
   ],
   "source": [
    "# 📦 Caricamento del dataset\n",
    "import pandas as pd\n",
    "import matplotlib.pyplot as plt\n",
    "import seaborn as sns\n",
    "\n",
    "url = \"https://raw.githubusercontent.com/datasciencedojo/datasets/master/titanic.csv\"\n",
    "df = pd.read_csv(url)\n",
    "df.head()"
   ]
  },
  {
   "cell_type": "markdown",
   "metadata": {},
   "source": [
    "Punto 1:  Qunte righe e colonne ha il dataset?"
   ]
  },
  {
   "cell_type": "code",
   "execution_count": 25,
   "metadata": {},
   "outputs": [
    {
     "name": "stdout",
     "output_type": "stream",
     "text": [
      "<class 'pandas.core.frame.DataFrame'>\n",
      "RangeIndex: 891 entries, 0 to 890\n",
      "Data columns (total 12 columns):\n",
      " #   Column       Non-Null Count  Dtype  \n",
      "---  ------       --------------  -----  \n",
      " 0   PassengerId  891 non-null    int64  \n",
      " 1   Survived     891 non-null    int64  \n",
      " 2   Pclass       891 non-null    int64  \n",
      " 3   Name         891 non-null    object \n",
      " 4   Sex          891 non-null    object \n",
      " 5   Age          714 non-null    float64\n",
      " 6   SibSp        891 non-null    int64  \n",
      " 7   Parch        891 non-null    int64  \n",
      " 8   Ticket       891 non-null    object \n",
      " 9   Fare         891 non-null    float64\n",
      " 10  Cabin        204 non-null    object \n",
      " 11  Embarked     889 non-null    object \n",
      "dtypes: float64(2), int64(5), object(5)\n",
      "memory usage: 83.7+ KB\n",
      "Il dataset contiene 891 righe e 12 colonne.\n"
     ]
    }
   ],
   "source": [
    "# Informazioni generali sul dataset\n",
    "df.info()\n",
    "\n",
    "# Ottengo il numero di righe e colonne\n",
    "righe, colonne = df.shape\n",
    "\n",
    "# Stampo la risposta\n",
    "print(f\"Il dataset contiene {righe} righe e {colonne} colonne.\")"
   ]
  },
  {
   "cell_type": "markdown",
   "metadata": {},
   "source": [
    "2. Quanti valori mancanti ci sono per colonna?"
   ]
  },
  {
   "cell_type": "code",
   "execution_count": 24,
   "metadata": {},
   "outputs": [
    {
     "name": "stdout",
     "output_type": "stream",
     "text": [
      "Age         177\n",
      "Cabin       687\n",
      "Embarked      2\n",
      "dtype: int64\n"
     ]
    }
   ],
   "source": [
    "# Numero di NaN per ciascuna colonna\n",
    "valori_mancanti = df.isnull(). sum()\n",
    "\n",
    "# Stampo solo le colonne che hanno almeno 1 NaN\n",
    "print(valori_mancanti[valori_mancanti > 0])"
   ]
  },
  {
   "cell_type": "markdown",
   "metadata": {},
   "source": [
    "3. Riempi i valori mancanti nella colonna 'Embarked' con il valore più frequente"
   ]
  },
  {
   "cell_type": "code",
   "execution_count": 29,
   "metadata": {},
   "outputs": [
    {
     "name": "stdout",
     "output_type": "stream",
     "text": [
      "Valore più frequente nella colonna 'Embarked': S\n",
      "Valori mancanti in 'Embarked' dopo il riempimento: 0\n"
     ]
    }
   ],
   "source": [
    "# Trovo il valore più frequente nella colonna 'Embarker'\n",
    "più_frequente = df['Embarked'].mode()[0]\n",
    "print(f\"Valore più frequente nella colonna 'Embarked': {più_frequente}\")\n",
    "\n",
    "# Riempio i valori mancanti con quel valore\n",
    "df['Embarked'].fillna(più_frequente, inplace = True)\n",
    "\n",
    "# Controllo che non ci sono piu NaN\n",
    "print(\"Valori mancanti in 'Embarked' dopo il riempimento:\", df['Embarked'].isnull().sum())"
   ]
  },
  {
   "cell_type": "markdown",
   "metadata": {},
   "source": [
    "Punto 4: Rimuovi le righe dove il valore di 'Age' è mancante"
   ]
  },
  {
   "cell_type": "code",
   "execution_count": 30,
   "metadata": {},
   "outputs": [
    {
     "name": "stdout",
     "output_type": "stream",
     "text": [
      "Righe prima della rimozione: 891\n",
      "Righe dopo la rimozione: 714\n"
     ]
    }
   ],
   "source": [
    "# Controllo quante righe ci sono prima del filtraggio\n",
    "print(\"Righe prima della rimozione:\", len(df))\n",
    "\n",
    "# Rimuovo le righe con valori NaN in 'Age'\n",
    "df = df[df['Age'].notnull()]\n",
    "\n",
    "# Controllo le righe rimaste dopo il filtraggio\n",
    "print(\"Righe dopo la rimozione:\", len(df))"
   ]
  },
  {
   "cell_type": "markdown",
   "metadata": {},
   "source": [
    "Punto 5: Controlla se ci sono righe duplicate"
   ]
  },
  {
   "cell_type": "code",
   "execution_count": null,
   "metadata": {},
   "outputs": [
    {
     "name": "stdout",
     "output_type": "stream",
     "text": [
      "Numero di righe duplicate nel dataset: 0\n"
     ]
    },
    {
     "data": {
      "text/html": [
       "<div>\n",
       "<style scoped>\n",
       "    .dataframe tbody tr th:only-of-type {\n",
       "        vertical-align: middle;\n",
       "    }\n",
       "\n",
       "    .dataframe tbody tr th {\n",
       "        vertical-align: top;\n",
       "    }\n",
       "\n",
       "    .dataframe thead th {\n",
       "        text-align: right;\n",
       "    }\n",
       "</style>\n",
       "<table border=\"1\" class=\"dataframe\">\n",
       "  <thead>\n",
       "    <tr style=\"text-align: right;\">\n",
       "      <th></th>\n",
       "      <th>PassengerId</th>\n",
       "      <th>Survived</th>\n",
       "      <th>Pclass</th>\n",
       "      <th>Name</th>\n",
       "      <th>Sex</th>\n",
       "      <th>Age</th>\n",
       "      <th>SibSp</th>\n",
       "      <th>Parch</th>\n",
       "      <th>Ticket</th>\n",
       "      <th>Fare</th>\n",
       "      <th>Cabin</th>\n",
       "      <th>Embarked</th>\n",
       "    </tr>\n",
       "  </thead>\n",
       "  <tbody>\n",
       "  </tbody>\n",
       "</table>\n",
       "</div>"
      ],
      "text/plain": [
       "Empty DataFrame\n",
       "Columns: [PassengerId, Survived, Pclass, Name, Sex, Age, SibSp, Parch, Ticket, Fare, Cabin, Embarked]\n",
       "Index: []"
      ]
     },
     "execution_count": 32,
     "metadata": {},
     "output_type": "execute_result"
    }
   ],
   "source": [
    "# Controllo quante righe duplicate ci sono\n",
    "duplicati = df.duplicated(). sum()\n",
    "print(f\"Numero di righe duplicate nel dataset: {duplicati}\")\n",
    "\n",
    "# Controllo quali sono le righe duplicate\n",
    "df[df.duplicated()]"
   ]
  },
  {
   "cell_type": "markdown",
   "metadata": {},
   "source": [
    "Punto 6: Calcola l’età media dei passeggeri per ogni classe (Pclass)\n"
   ]
  },
  {
   "cell_type": "code",
   "execution_count": 35,
   "metadata": {},
   "outputs": [
    {
     "name": "stdout",
     "output_type": "stream",
     "text": [
      "Classe 1: età media = 38.23 anni\n",
      "Classe 2: età media = 29.88 anni\n",
      "Classe 3: età media = 25.14 anni\n"
     ]
    }
   ],
   "source": [
    "# Età media dei passeggeri per ciascuna classe (Pclass)\n",
    "eta_media_classe = df.groupby('Pclass')['Age'].mean()\n",
    "\n",
    "# Stampo il risultato\n",
    "for classe, media in eta_media_classe.items():\n",
    "    print(f\"Classe {classe}: età media = {media:.2f} anni\")"
   ]
  },
  {
   "cell_type": "markdown",
   "metadata": {},
   "source": [
    "Punto 7: Visualizza la distribuzione dell’età per classe"
   ]
  },
  {
   "cell_type": "code",
   "execution_count": null,
   "metadata": {},
   "outputs": [
    {
     "data": {
      "image/png": "[encoded data removed]",
      "text/plain": [
       "<Figure size 1440x400 with 3 Axes>"
      ]
     },
     "metadata": {},
     "output_type": "display_data"
    }
   ],
   "source": [
    "# Creo un FacetGrid con un grafico per ogni classe\n",
    "g = sns.FacetGrid(df, col=\"Pclass\", height=4, aspect=1.2)\n",
    "\n",
    "# Aggiungo l'istogramma dell'età a ciascun pannello\n",
    "g.map(sns.histplot, \"Age\", bins=30, color=\"skyblue\")\n",
    "\n",
    "# Aggiunge titoli e assi\n",
    "g.set_titles(\"Classe {col_name}\")\n",
    "g.set_axis_labels(\"Età\", \"Conteggio\")\n",
    "\n",
    "# Titolo principale del grafico\n",
    "plt.subplots_adjust(top=0.8)\n",
    "g.fig.suptitle(\"Distribuzione dell'età per classe\", fontsize=16)\n",
    "\n",
    "# Mostro il grafico\n",
    "plt.show()"
   ]
  },
  {
   "cell_type": "markdown",
   "metadata": {},
   "source": [
    "Punto 8: Visualizza la distribuzione dell’età per classe dividendo uomini e donne"
   ]
  },
  {
   "cell_type": "code",
   "execution_count": 39,
   "metadata": {},
   "outputs": [
    {
     "data": {
      "image/png": "[encoded data removed]",
      "text/plain": [
       "<Figure size 971.111x400 with 2 Axes>"
      ]
     },
     "metadata": {},
     "output_type": "display_data"
    }
   ],
   "source": [
    "# Distribuzione dell'età per classe, separata per sesso\n",
    "g = sns.FacetGrid(df, col=\"Sex\", height=4, aspect=1.2)\n",
    "g.map_dataframe(\n",
    "    sns.histplot,\n",
    "    x=\"Age\",\n",
    "    hue=\"Pclass\",\n",
    "    multiple=\"stack\",\n",
    "    bins=30,\n",
    "    palette=\"Set2\"\n",
    ")\n",
    "\n",
    "# Titoli e assi\n",
    "g.set_titles(\"Sesso: {col_name}\")\n",
    "g.set_axis_labels(\"Età\", \"Conteggio\")\n",
    "g.add_legend()\n",
    "\n",
    "# Titolo generale\n",
    "g.fig.suptitle(\"Distribuzione dell'età per classe e sesso\", fontsize=16)\n",
    "plt.subplots_adjust(top=0.8)\n",
    "\n",
    "# Mostro il grafico\n",
    "plt.show()\n"
   ]
  },
  {
   "cell_type": "markdown",
   "metadata": {},
   "source": [
    "## 3. Analisi del Dataset Iris\n",
    "\n",
    "- Esplora la distribuzione delle specie (conta quanti campioni ci sono per specie)\n",
    "- Calcola la lunghezza e la larghezza media dei petali per specie\n",
    "- Visualizza le dimensioni dei petali per specie (scatterplot)\n",
    "- Crea una nuova colonna per l'area del petalo e analizzala\n",
    "- Grafico della distribuzione dell'area del petalo per specie (boxplot)"
   ]
  },
  {
   "cell_type": "code",
   "execution_count": 2,
   "metadata": {},
   "outputs": [
    {
     "data": {
      "text/html": [
       "<div>\n",
       "<style scoped>\n",
       "    .dataframe tbody tr th:only-of-type {\n",
       "        vertical-align: middle;\n",
       "    }\n",
       "\n",
       "    .dataframe tbody tr th {\n",
       "        vertical-align: top;\n",
       "    }\n",
       "\n",
       "    .dataframe thead th {\n",
       "        text-align: right;\n",
       "    }\n",
       "</style>\n",
       "<table border=\"1\" class=\"dataframe\">\n",
       "  <thead>\n",
       "    <tr style=\"text-align: right;\">\n",
       "      <th></th>\n",
       "      <th>sepal_length</th>\n",
       "      <th>sepal_width</th>\n",
       "      <th>petal_length</th>\n",
       "      <th>petal_width</th>\n",
       "      <th>species</th>\n",
       "    </tr>\n",
       "  </thead>\n",
       "  <tbody>\n",
       "    <tr>\n",
       "      <th>0</th>\n",
       "      <td>5.1</td>\n",
       "      <td>3.5</td>\n",
       "      <td>1.4</td>\n",
       "      <td>0.2</td>\n",
       "      <td>setosa</td>\n",
       "    </tr>\n",
       "    <tr>\n",
       "      <th>1</th>\n",
       "      <td>4.9</td>\n",
       "      <td>3.0</td>\n",
       "      <td>1.4</td>\n",
       "      <td>0.2</td>\n",
       "      <td>setosa</td>\n",
       "    </tr>\n",
       "    <tr>\n",
       "      <th>2</th>\n",
       "      <td>4.7</td>\n",
       "      <td>3.2</td>\n",
       "      <td>1.3</td>\n",
       "      <td>0.2</td>\n",
       "      <td>setosa</td>\n",
       "    </tr>\n",
       "    <tr>\n",
       "      <th>3</th>\n",
       "      <td>4.6</td>\n",
       "      <td>3.1</td>\n",
       "      <td>1.5</td>\n",
       "      <td>0.2</td>\n",
       "      <td>setosa</td>\n",
       "    </tr>\n",
       "    <tr>\n",
       "      <th>4</th>\n",
       "      <td>5.0</td>\n",
       "      <td>3.6</td>\n",
       "      <td>1.4</td>\n",
       "      <td>0.2</td>\n",
       "      <td>setosa</td>\n",
       "    </tr>\n",
       "  </tbody>\n",
       "</table>\n",
       "</div>"
      ],
      "text/plain": [
       "   sepal_length  sepal_width  petal_length  petal_width species\n",
       "0           5.1          3.5           1.4          0.2  setosa\n",
       "1           4.9          3.0           1.4          0.2  setosa\n",
       "2           4.7          3.2           1.3          0.2  setosa\n",
       "3           4.6          3.1           1.5          0.2  setosa\n",
       "4           5.0          3.6           1.4          0.2  setosa"
      ]
     },
     "execution_count": 2,
     "metadata": {},
     "output_type": "execute_result"
    }
   ],
   "source": [
    "import pandas as pd\n",
    "import matplotlib.pyplot as plt\n",
    "import seaborn as sns\n",
    "\n",
    "url = \"https://raw.githubusercontent.com/mwaskom/seaborn-data/master/iris.csv\"\n",
    "df = pd.read_csv(url)\n",
    "df.head()"
   ]
  }
 ],
 "metadata": {
  "kernelspec": {
   "display_name": "ProgrammingLab_2",
   "language": "python",
   "name": "python3"
  },
  "language_info": {
   "codemirror_mode": {
    "name": "ipython",
    "version": 3
   },
   "file_extension": ".py",
   "mimetype": "text/x-python",
   "name": "python",
   "nbconvert_exporter": "python",
   "pygments_lexer": "ipython3",
   "version": "3.11.11"
  }
 },
 "nbformat": 4,
 "nbformat_minor": 2
}
