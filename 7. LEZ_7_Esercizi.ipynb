{
 "cells": [
  {
   "cell_type": "markdown",
   "id": "25c2e0fa",
   "metadata": {},
   "source": [
    "### Esercizio 1: \n",
    "Hai a disposizione un file `data.csv` contenente dati mensili di passeggeri con due colonne:\n",
    "\n",
    "- `date`: data in formato `YYYY-MM` (mese/anno)\n",
    "- `passengers`: numero di passeggeri per quel mese\n",
    "\n",
    "\n",
    "Costruisci un modello di **regressione polinomiale** che approssima l’andamento del numero di passeggeri nel tempo.\n",
    "\n",
    "1. Carica il dataset.\n",
    "2. Convertilo in un formato numerico utilizzando una colonna `mese_numerico` che conti i mesi a partire da gennaio 1949.\n",
    "3. Applica una regressione polinomiale (grado a tua scelta).\n",
    "4. Calcola l’RMSE tra i valori reali e quelli predetti.\n",
    "5. Visualizza i dati reali e la curva stimata con Plotly."
   ]
  },
  {
   "cell_type": "markdown",
   "id": "5f5e1031",
   "metadata": {},
   "source": [
    "***Punto 1: Carico il dataset***"
   ]
  },
  {
   "cell_type": "code",
   "execution_count": 6,
   "id": "5e788fda",
   "metadata": {},
   "outputs": [
    {
     "data": {
      "text/html": [
       "<div>\n",
       "<style scoped>\n",
       "    .dataframe tbody tr th:only-of-type {\n",
       "        vertical-align: middle;\n",
       "    }\n",
       "\n",
       "    .dataframe tbody tr th {\n",
       "        vertical-align: top;\n",
       "    }\n",
       "\n",
       "    .dataframe thead th {\n",
       "        text-align: right;\n",
       "    }\n",
       "</style>\n",
       "<table border=\"1\" class=\"dataframe\">\n",
       "  <thead>\n",
       "    <tr style=\"text-align: right;\">\n",
       "      <th></th>\n",
       "      <th>date</th>\n",
       "      <th>passengers</th>\n",
       "    </tr>\n",
       "  </thead>\n",
       "  <tbody>\n",
       "    <tr>\n",
       "      <th>0</th>\n",
       "      <td>1949-01</td>\n",
       "      <td>112.0</td>\n",
       "    </tr>\n",
       "    <tr>\n",
       "      <th>1</th>\n",
       "      <td>1949-02</td>\n",
       "      <td>118.0</td>\n",
       "    </tr>\n",
       "    <tr>\n",
       "      <th>2</th>\n",
       "      <td>1949-03</td>\n",
       "      <td>132.0</td>\n",
       "    </tr>\n",
       "    <tr>\n",
       "      <th>3</th>\n",
       "      <td>1949-04</td>\n",
       "      <td>129.0</td>\n",
       "    </tr>\n",
       "    <tr>\n",
       "      <th>4</th>\n",
       "      <td>1949-05</td>\n",
       "      <td>121.0</td>\n",
       "    </tr>\n",
       "  </tbody>\n",
       "</table>\n",
       "</div>"
      ],
      "text/plain": [
       "      date  passengers\n",
       "0  1949-01       112.0\n",
       "1  1949-02       118.0\n",
       "2  1949-03       132.0\n",
       "3  1949-04       129.0\n",
       "4  1949-05       121.0"
      ]
     },
     "execution_count": 6,
     "metadata": {},
     "output_type": "execute_result"
    }
   ],
   "source": [
    "import pandas as pd\n",
    "\n",
    "# Importo il file CSV\n",
    "df = pd.read_csv (\"data.csv\")\n",
    "\n",
    "# Visualizzo le prime 5 righe per controllare la struttura\n",
    "df.head()"
   ]
  },
  {
   "cell_type": "markdown",
   "id": "fae63d5b",
   "metadata": {},
   "source": [
    "***Punto 2: Aggiunta della colonna mese_numerico***\n"
   ]
  },
  {
   "cell_type": "code",
   "execution_count": 7,
   "id": "05c1cfca",
   "metadata": {},
   "outputs": [
    {
     "data": {
      "text/html": [
       "<div>\n",
       "<style scoped>\n",
       "    .dataframe tbody tr th:only-of-type {\n",
       "        vertical-align: middle;\n",
       "    }\n",
       "\n",
       "    .dataframe tbody tr th {\n",
       "        vertical-align: top;\n",
       "    }\n",
       "\n",
       "    .dataframe thead th {\n",
       "        text-align: right;\n",
       "    }\n",
       "</style>\n",
       "<table border=\"1\" class=\"dataframe\">\n",
       "  <thead>\n",
       "    <tr style=\"text-align: right;\">\n",
       "      <th></th>\n",
       "      <th>date</th>\n",
       "      <th>passengers</th>\n",
       "      <th>mese_numerico</th>\n",
       "    </tr>\n",
       "  </thead>\n",
       "  <tbody>\n",
       "    <tr>\n",
       "      <th>0</th>\n",
       "      <td>1949-01-01</td>\n",
       "      <td>112.0</td>\n",
       "      <td>0</td>\n",
       "    </tr>\n",
       "    <tr>\n",
       "      <th>1</th>\n",
       "      <td>1949-02-01</td>\n",
       "      <td>118.0</td>\n",
       "      <td>1</td>\n",
       "    </tr>\n",
       "    <tr>\n",
       "      <th>2</th>\n",
       "      <td>1949-03-01</td>\n",
       "      <td>132.0</td>\n",
       "      <td>2</td>\n",
       "    </tr>\n",
       "    <tr>\n",
       "      <th>3</th>\n",
       "      <td>1949-04-01</td>\n",
       "      <td>129.0</td>\n",
       "      <td>3</td>\n",
       "    </tr>\n",
       "    <tr>\n",
       "      <th>4</th>\n",
       "      <td>1949-05-01</td>\n",
       "      <td>121.0</td>\n",
       "      <td>4</td>\n",
       "    </tr>\n",
       "  </tbody>\n",
       "</table>\n",
       "</div>"
      ],
      "text/plain": [
       "        date  passengers  mese_numerico\n",
       "0 1949-01-01       112.0              0\n",
       "1 1949-02-01       118.0              1\n",
       "2 1949-03-01       132.0              2\n",
       "3 1949-04-01       129.0              3\n",
       "4 1949-05-01       121.0              4"
      ]
     },
     "execution_count": 7,
     "metadata": {},
     "output_type": "execute_result"
    }
   ],
   "source": [
    "# Converto la colonna 'date' in oggetti datetime\n",
    "df['date'] = pd.to_datetime(df['date'])\n",
    "\n",
    "# Calcolo i mesi trascorsi da gennaio 1949\n",
    "df['mese_numerico'] = (df['date'].dt.year - 1949) * 12 + (df['date'].dt.month - 1)\n",
    "\n",
    "# Controllo le prime righe per vedere se la colonna è stata aggiunta correttamente\n",
    "df.head()\n",
    "\n",
    "## INFO: \n",
    "#   - pd.to_datetime(...): Converte le stringhe di data in oggetti datetime.\n",
    "#   - (year - 1949) * ...: Calcola il numero di mesi trascorsi da Gennaio 1949.\n",
    "\n",
    "# Il mese 0 = gennaio 1949, mese 1 = febbraio 1949, ecc.."
   ]
  },
  {
   "cell_type": "markdown",
   "id": "71ce60aa",
   "metadata": {},
   "source": [
    "***Punto 3: Regressione polinomiale***"
   ]
  },
  {
   "cell_type": "code",
   "execution_count": 8,
   "id": "4ef6fc85",
   "metadata": {},
   "outputs": [],
   "source": [
    "from sklearn.preprocessing import PolynomialFeatures\n",
    "from sklearn.linear_model import LinearRegression\n",
    "\n",
    "# Converto la colonna passengers in numerico \n",
    "df['passengers'] = pd.to_numeric(df['passengers'], errors='coerce')\n",
    "\n",
    "# Rimuovo eventuali righe con valori mancanti\n",
    "df_clean = df.dropna()\n",
    "\n",
    "# Separo le variabili\n",
    "X = df_clean[['mese_numerico']]  # variabile indipendente (X)\n",
    "y = df_clean['passengers']       # variabile dipendente (y)\n",
    "\n",
    "# Trasformo X in variabili polinomiali fino al grado 2\n",
    "poly = PolynomialFeatures(degree=2)\n",
    "X_poly = poly.fit_transform(X)\n",
    "\n",
    "# Creo e adatto il modello\n",
    "model = LinearRegression()\n",
    "model.fit(X_poly, y)\n",
    "\n",
    "# Calcolo le predizioni sui dati originali\n",
    "y_pred = model.predict(X_poly)\n",
    "\n",
    "## INFO: \n",
    "#   - PolynomialFeatures(...): Crea nuove colonne con i termini quadratici;\n",
    "#   - LinearRegression().fit(...): Costruisce il modello sui dati trasformati.\n",
    "#   - y_pred: Sono i valori predetti dal modello."
   ]
  },
  {
   "cell_type": "markdown",
   "id": "d2daa7d9",
   "metadata": {},
   "source": [
    "***Punto 4: Calcolo RMSE (Root Mean Squared Error)***"
   ]
  },
  {
   "cell_type": "code",
   "execution_count": 9,
   "id": "c1ac9504",
   "metadata": {},
   "outputs": [
    {
     "name": "stdout",
     "output_type": "stream",
     "text": [
      "RMSE: 44.45027656808772\n"
     ]
    }
   ],
   "source": [
    "from sklearn.metrics import mean_squared_error\n",
    "import numpy as np\n",
    "\n",
    "# Calcolo l'errore quadratico medio (MSE)\n",
    "mse = mean_squared_error(y, y_pred)\n",
    "\n",
    "# Calcolo la radice quadrata per ottenere l'RMSE\n",
    "rmse = np.sqrt(mse)\n",
    "\n",
    "# Stampo il risultato\n",
    "print(\"RMSE:\", rmse)\n",
    "\n",
    "## INFO:\n",
    "#   - mean_squared_error: Calcola la media degli errori quadratici tra y e y_pred.\n",
    "#   - np.sqrt(...): Trasforma l’MSE in RMSE (che ha le stesse unità dei passeggeri).\n",
    "\n",
    "# Più il valore è vicino a 0, più il modello è preciso."
   ]
  },
  {
   "cell_type": "markdown",
   "id": "a0ad2764",
   "metadata": {},
   "source": [
    "***Punto 5: Visualizza i dati reali e la curva stimata con Plotly***"
   ]
  },
  {
   "cell_type": "code",
   "execution_count": 20,
   "id": "c2917925",
   "metadata": {},
   "outputs": [
    {
     "data": {
      "application/vnd.plotly.v1+json": {
       "config": {
        "plotlyServerURL": "https://plot.ly"
       },
       "data": [
        {
         "mode": "markers",
         "name": "Dati reali",
         "type": "scatter",
         "x": {
          "bdata": "AAAAAAEAAAACAAAAAwAAAAQAAAAFAAAABgAAAAcAAAAIAAAACQAAAAoAAAALAAAADAAAAA0AAAAOAAAADwAAABAAAAARAAAAEgAAABMAAAAUAAAAFQAAABYAAAAXAAAAGAAAABkAAAAaAAAAGwAAABwAAAAdAAAAHgAAAB8AAAAgAAAAIQAAACIAAAAjAAAAJAAAACUAAAAmAAAAJwAAACgAAAApAAAAKgAAACsAAAAsAAAALQAAAC4AAAAvAAAAMAAAADEAAAAyAAAAMwAAADQAAAA1AAAANgAAADcAAAA4AAAAOQAAADoAAAA7AAAASAAAAEkAAABKAAAASwAAAEwAAABNAAAATgAAAE8AAABQAAAAUQAAAFIAAABTAAAAVAAAAFUAAABWAAAAVwAAAFgAAABZAAAAWgAAAFsAAABcAAAAXQAAAF4AAABfAAAAYAAAAGEAAABiAAAAYwAAAGQAAABlAAAAZgAAAGcAAABoAAAAaQAAAGoAAABrAAAAbAAAAG0AAABuAAAAbwAAAHAAAABxAAAAcgAAAHMAAAB0AAAAdQAAAHYAAAB3AAAAeAAAAHkAAAB6AAAAewAAAHwAAAB9AAAAfgAAAH8AAACAAAAAgQAAAIIAAACDAAAAhAAAAIUAAACGAAAAhwAAAIgAAACJAAAAigAAAIsAAACMAAAAjQAAAI8AAAA=",
          "dtype": "i4"
         },
         "y": {
          "bdata": "AAAAAAAAXEAAAAAAAIBdQAAAAAAAgGBAAAAAAAAgYEAAAAAAAEBeQAAAAAAA4GBAAAAAAACAYkAAAAAAAIBiQAAAAAAAAGFAAAAAAADAXUAAAAAAAABaQAAAAAAAgF1AAAAAAADAXEAAAAAAAIBfQAAAAAAAoGFAAAAAAADgYEAAAAAAAEBfQAAAAAAAoGJAAAAAAABAZUAAAAAAAEBlQAAAAAAAwGNAAAAAAACgYEAAAAAAAIBcQAAAAAAAgGFAAAAAAAAgYkAAAAAAAMBiQAAAAAAAQGZAAAAAAABgZEAAAAAAAIBlQAAAAAAAQGZAAAAAAADgaEAAAAAAAOBoQAAAAAAAAGdAAAAAAABAZEAAAAAAAEBiQAAAAAAAwGRAAAAAAABgZUAAAAAAAIBmQAAAAAAAIGhAAAAAAACgZkAAAAAAAOBmQAAAAAAAQGtAAAAAAADAbEAAAAAAAEBuQAAAAAAAIGpAAAAAAADgZ0AAAAAAAIBlQAAAAAAAQGhAAAAAAACAaEAAAAAAAIBoQAAAAAAAgG1AAAAAAABgbUAAAAAAAKBsQAAAAAAAYG5AAAAAAACAcEAAAAAAAABxQAAAAAAAoG1AAAAAAABgakAAAAAAAIBmQAAAAAAAIGlAAAAAAABAbkAAAAAAACBtQAAAAAAAsHBAAAAAAADQcEAAAAAAAOBwQAAAAAAAsHNAAAAAAADAdkAAAAAAALB1QAAAAAAAgHNAAAAAAAAgcUAAAAAAAKBtQAAAAAAAYHFAAAAAAADAcUAAAAAAAFBxQAAAAAAA0HNAAAAAAACQc0AAAAAAAOBzQAAAAAAAYHdAAAAAAADQeUAAAAAAAFB5QAAAAAAAMHZAAAAAAAAgc0AAAAAAAPBwQAAAAAAAIHNAAAAAAACwc0AAAAAAANByQAAAAAAAQHZAAAAAAADAdUAAAAAAADB2QAAAAAAAYHpAAAAAAAAQfUAAAAAAADB9QAAAAAAAQHlAAAAAAACwdUAAAAAAABBzQAAAAAAAAHVAAAAAAABAdUAAAAAAAOBzQAAAAAAAoHZAAAAAAADAdUAAAAAAALB2QAAAAAAAMHtAAAAAAACwfkAAAAAAAJB/QAAAAAAAQHlAAAAAAABwdkAAAAAAAGBzQAAAAAAAEHVAAAAAAACAdkAAAAAAAGB1QAAAAAAAYHlAAAAAAADAeEAAAAAAAEB6QAAAAAAAgH1AAAAAAAAggUAAAAAAAHiBQAAAAAAA8HxAAAAAAABweUAAAAAAAKB2QAAAAAAAUHlAAAAAAAAQekAAAAAAAHB4QAAAAAAAMHpAAAAAAADQfEAAAAAAAIB9QAAAAAAAuIBAAAAAAABwg0AAAAAAAPCCQAAAAAAAwH9AAAAAAADQfEAAAAAAAAB7QA==",
          "dtype": "f8"
         }
        },
        {
         "mode": "lines",
         "name": "Regressione polinomiale",
         "type": "scatter",
         "x": {
          "bdata": "AAAAAAEAAAACAAAAAwAAAAQAAAAFAAAABgAAAAcAAAAIAAAACQAAAAoAAAALAAAADAAAAA0AAAAOAAAADwAAABAAAAARAAAAEgAAABMAAAAUAAAAFQAAABYAAAAXAAAAGAAAABkAAAAaAAAAGwAAABwAAAAdAAAAHgAAAB8AAAAgAAAAIQAAACIAAAAjAAAAJAAAACUAAAAmAAAAJwAAACgAAAApAAAAKgAAACsAAAAsAAAALQAAAC4AAAAvAAAAMAAAADEAAAAyAAAAMwAAADQAAAA1AAAANgAAADcAAAA4AAAAOQAAADoAAAA7AAAASAAAAEkAAABKAAAASwAAAEwAAABNAAAATgAAAE8AAABQAAAAUQAAAFIAAABTAAAAVAAAAFUAAABWAAAAVwAAAFgAAABZAAAAWgAAAFsAAABcAAAAXQAAAF4AAABfAAAAYAAAAGEAAABiAAAAYwAAAGQAAABlAAAAZgAAAGcAAABoAAAAaQAAAGoAAABrAAAAbAAAAG0AAABuAAAAbwAAAHAAAABxAAAAcgAAAHMAAAB0AAAAdQAAAHYAAAB3AAAAeAAAAHkAAAB6AAAAewAAAHwAAAB9AAAAfgAAAH8AAACAAAAAgQAAAIIAAACDAAAAhAAAAIUAAACGAAAAhwAAAIgAAACJAAAAigAAAIsAAACMAAAAjQAAAI8AAAA=",
          "dtype": "i4"
         },
         "y": {
          "bdata": "NDncBj2jXECEmuUYXw5dQJQfRdxpel1AZMj6UF3nXUD1lAZ3OVVeQEaFaE7+w15AWJkg16szX0Aq0S4RQqRfQF6WSX7gCmBACNamTBREYECSJ69zvH1gQPuKYvPYt2BARQDBy2nyYEBwh8r8bi1hQHogf4boaGFAZcveaNakYUAwiOmjOOFhQNtWnzcPHmJAZjcAJFpbYkDSKQxpGZliQB4uwwZN12JASUQl/fQVY0BWbDJMEVVjQEKm6vOhlGNADvJN9KbUY0C7T1xNIBVkQEi/Ff8NVmRAtUB6CXCXZEAC1IlsRtlkQDB5RCiRG2VAPjCqPFBeZUAr+bqpg6FlQPrTdm8r5WVAqMDdjUcpZkA2v+8E2G1mQKXPrNTcsmZA9PEU/VX4ZkAkJih+Qz5nQDJs5lelhGdAIsRPinvLZ0DyLWQVxhJoQKKpI/mEWmhAMjeONbiiaECi1qPKX+toQPOHZLh7NGlAJEvQ/gt+aUA1IOedEMhpQCYHqZWJEmpA9/8V5nZdakCpCi6P2KhqQDon8ZCu9GpArFVf6/hAa0D+lXiet41rQDHoPKrq2mtAREysDpIobEA3wsbLrXZsQApKjOE9xWxAveP8T0IUbUBQjxgXu2NtQMRM3zaos21AKyNjLAf2cEAG//MoLCFxQNJj2lGLTHFAjFEWpyR4cUA4yKco+KNxQNTHjtYF0HFAYFDLsE38cUDcYV23zyhyQEj8ROqLVXJAox+CSYKCckDwyxTVsq9yQCwB/Ywd3XJAWL86ccIKc0B0Bs6BoThzQIHWtr66ZnNAfi/1Jw6Vc0BrEYm9m8NzQEd8cn9j8nNAFHCxbWUhdEDS7EWIoVB0QH/yL88XgHRAHIFvQsivdECpmATist90QCc5763XD3VAlGIvpjZAdUDyFMXKz3B1QEBQsBujoXVAfhTxmLDSdUCrYYdC+AN2QMo3cxh6NXZA2Ja0GjZndkDWfktJLJl2QMTvN6Rcy3ZAo+l5K8f9dkBxbBHfazB3QDF4/r5KY3dA3wxBy2OWd0B+KtkDt8l3QA3RxmhE/XdAjAAK+gsxeED7uKK3DWV4QFv6kKFJmXhAqsTUt7/NeEDpF276bwJ5QBn0XGlaN3lAOVmhBH9seUBJRzvM3aF5QEi+KsB213lAOL5v4EkNekAZRwotV0N6QOlY+qWeeXpAqfM/SyCwekBZF9sc3OZ6QPrDyxrSHXtAi/kRRQJVe0ALuK2bbIx7QHz/nh4RxHtA3c/lze/7e0AuKYKpCDR8QG8LdLFbbHxAoHa75eikfEDCalhGsN18QNPnStOxFn1A1e2SjO1PfUDGfDByY4l9QKiUI4QTw31AeTVswv38fUA7XwotIjd+QO4R/sOAcX5AkE1HhxmsfkClX9qS+SF/QA==",
          "dtype": "f8"
         }
        }
       ],
       "layout": {
        "template": {
         "data": {
          "bar": [
           {
            "error_x": {
             "color": "#2a3f5f"
            },
            "error_y": {
             "color": "#2a3f5f"
            },
            "marker": {
             "line": {
              "color": "#E5ECF6",
              "width": 0.5
             },
             "pattern": {
              "fillmode": "overlay",
              "size": 10,
              "solidity": 0.2
             }
            },
            "type": "bar"
           }
          ],
          "barpolar": [
           {
            "marker": {
             "line": {
              "color": "#E5ECF6",
              "width": 0.5
             },
             "pattern": {
              "fillmode": "overlay",
              "size": 10,
              "solidity": 0.2
             }
            },
            "type": "barpolar"
           }
          ],
          "carpet": [
           {
            "aaxis": {
             "endlinecolor": "#2a3f5f",
             "gridcolor": "white",
             "linecolor": "white",
             "minorgridcolor": "white",
             "startlinecolor": "#2a3f5f"
            },
            "baxis": {
             "endlinecolor": "#2a3f5f",
             "gridcolor": "white",
             "linecolor": "white",
             "minorgridcolor": "white",
             "startlinecolor": "#2a3f5f"
            },
            "type": "carpet"
           }
          ],
          "choropleth": [
           {
            "colorbar": {
             "outlinewidth": 0,
             "ticks": ""
            },
            "type": "choropleth"
           }
          ],
          "contour": [
           {
            "colorbar": {
             "outlinewidth": 0,
             "ticks": ""
            },
            "colorscale": [
             [
              0,
              "#0d0887"
             ],
             [
              0.1111111111111111,
              "#46039f"
             ],
             [
              0.2222222222222222,
              "#7201a8"
             ],
             [
              0.3333333333333333,
              "#9c179e"
             ],
             [
              0.4444444444444444,
              "#bd3786"
             ],
             [
              0.5555555555555556,
              "#d8576b"
             ],
             [
              0.6666666666666666,
              "#ed7953"
             ],
             [
              0.7777777777777778,
              "#fb9f3a"
             ],
             [
              0.8888888888888888,
              "#fdca26"
             ],
             [
              1,
              "#f0f921"
             ]
            ],
            "type": "contour"
           }
          ],
          "contourcarpet": [
           {
            "colorbar": {
             "outlinewidth": 0,
             "ticks": ""
            },
            "type": "contourcarpet"
           }
          ],
          "heatmap": [
           {
            "colorbar": {
             "outlinewidth": 0,
             "ticks": ""
            },
            "colorscale": [
             [
              0,
              "#0d0887"
             ],
             [
              0.1111111111111111,
              "#46039f"
             ],
             [
              0.2222222222222222,
              "#7201a8"
             ],
             [
              0.3333333333333333,
              "#9c179e"
             ],
             [
              0.4444444444444444,
              "#bd3786"
             ],
             [
              0.5555555555555556,
              "#d8576b"
             ],
             [
              0.6666666666666666,
              "#ed7953"
             ],
             [
              0.7777777777777778,
              "#fb9f3a"
             ],
             [
              0.8888888888888888,
              "#fdca26"
             ],
             [
              1,
              "#f0f921"
             ]
            ],
            "type": "heatmap"
           }
          ],
          "histogram": [
           {
            "marker": {
             "pattern": {
              "fillmode": "overlay",
              "size": 10,
              "solidity": 0.2
             }
            },
            "type": "histogram"
           }
          ],
          "histogram2d": [
           {
            "colorbar": {
             "outlinewidth": 0,
             "ticks": ""
            },
            "colorscale": [
             [
              0,
              "#0d0887"
             ],
             [
              0.1111111111111111,
              "#46039f"
             ],
             [
              0.2222222222222222,
              "#7201a8"
             ],
             [
              0.3333333333333333,
              "#9c179e"
             ],
             [
              0.4444444444444444,
              "#bd3786"
             ],
             [
              0.5555555555555556,
              "#d8576b"
             ],
             [
              0.6666666666666666,
              "#ed7953"
             ],
             [
              0.7777777777777778,
              "#fb9f3a"
             ],
             [
              0.8888888888888888,
              "#fdca26"
             ],
             [
              1,
              "#f0f921"
             ]
            ],
            "type": "histogram2d"
           }
          ],
          "histogram2dcontour": [
           {
            "colorbar": {
             "outlinewidth": 0,
             "ticks": ""
            },
            "colorscale": [
             [
              0,
              "#0d0887"
             ],
             [
              0.1111111111111111,
              "#46039f"
             ],
             [
              0.2222222222222222,
              "#7201a8"
             ],
             [
              0.3333333333333333,
              "#9c179e"
             ],
             [
              0.4444444444444444,
              "#bd3786"
             ],
             [
              0.5555555555555556,
              "#d8576b"
             ],
             [
              0.6666666666666666,
              "#ed7953"
             ],
             [
              0.7777777777777778,
              "#fb9f3a"
             ],
             [
              0.8888888888888888,
              "#fdca26"
             ],
             [
              1,
              "#f0f921"
             ]
            ],
            "type": "histogram2dcontour"
           }
          ],
          "mesh3d": [
           {
            "colorbar": {
             "outlinewidth": 0,
             "ticks": ""
            },
            "type": "mesh3d"
           }
          ],
          "parcoords": [
           {
            "line": {
             "colorbar": {
              "outlinewidth": 0,
              "ticks": ""
             }
            },
            "type": "parcoords"
           }
          ],
          "pie": [
           {
            "automargin": true,
            "type": "pie"
           }
          ],
          "scatter": [
           {
            "fillpattern": {
             "fillmode": "overlay",
             "size": 10,
             "solidity": 0.2
            },
            "type": "scatter"
           }
          ],
          "scatter3d": [
           {
            "line": {
             "colorbar": {
              "outlinewidth": 0,
              "ticks": ""
             }
            },
            "marker": {
             "colorbar": {
              "outlinewidth": 0,
              "ticks": ""
             }
            },
            "type": "scatter3d"
           }
          ],
          "scattercarpet": [
           {
            "marker": {
             "colorbar": {
              "outlinewidth": 0,
              "ticks": ""
             }
            },
            "type": "scattercarpet"
           }
          ],
          "scattergeo": [
           {
            "marker": {
             "colorbar": {
              "outlinewidth": 0,
              "ticks": ""
             }
            },
            "type": "scattergeo"
           }
          ],
          "scattergl": [
           {
            "marker": {
             "colorbar": {
              "outlinewidth": 0,
              "ticks": ""
             }
            },
            "type": "scattergl"
           }
          ],
          "scattermap": [
           {
            "marker": {
             "colorbar": {
              "outlinewidth": 0,
              "ticks": ""
             }
            },
            "type": "scattermap"
           }
          ],
          "scattermapbox": [
           {
            "marker": {
             "colorbar": {
              "outlinewidth": 0,
              "ticks": ""
             }
            },
            "type": "scattermapbox"
           }
          ],
          "scatterpolar": [
           {
            "marker": {
             "colorbar": {
              "outlinewidth": 0,
              "ticks": ""
             }
            },
            "type": "scatterpolar"
           }
          ],
          "scatterpolargl": [
           {
            "marker": {
             "colorbar": {
              "outlinewidth": 0,
              "ticks": ""
             }
            },
            "type": "scatterpolargl"
           }
          ],
          "scatterternary": [
           {
            "marker": {
             "colorbar": {
              "outlinewidth": 0,
              "ticks": ""
             }
            },
            "type": "scatterternary"
           }
          ],
          "surface": [
           {
            "colorbar": {
             "outlinewidth": 0,
             "ticks": ""
            },
            "colorscale": [
             [
              0,
              "#0d0887"
             ],
             [
              0.1111111111111111,
              "#46039f"
             ],
             [
              0.2222222222222222,
              "#7201a8"
             ],
             [
              0.3333333333333333,
              "#9c179e"
             ],
             [
              0.4444444444444444,
              "#bd3786"
             ],
             [
              0.5555555555555556,
              "#d8576b"
             ],
             [
              0.6666666666666666,
              "#ed7953"
             ],
             [
              0.7777777777777778,
              "#fb9f3a"
             ],
             [
              0.8888888888888888,
              "#fdca26"
             ],
             [
              1,
              "#f0f921"
             ]
            ],
            "type": "surface"
           }
          ],
          "table": [
           {
            "cells": {
             "fill": {
              "color": "#EBF0F8"
             },
             "line": {
              "color": "white"
             }
            },
            "header": {
             "fill": {
              "color": "#C8D4E3"
             },
             "line": {
              "color": "white"
             }
            },
            "type": "table"
           }
          ]
         },
         "layout": {
          "annotationdefaults": {
           "arrowcolor": "#2a3f5f",
           "arrowhead": 0,
           "arrowwidth": 1
          },
          "autotypenumbers": "strict",
          "coloraxis": {
           "colorbar": {
            "outlinewidth": 0,
            "ticks": ""
           }
          },
          "colorscale": {
           "diverging": [
            [
             0,
             "#8e0152"
            ],
            [
             0.1,
             "#c51b7d"
            ],
            [
             0.2,
             "#de77ae"
            ],
            [
             0.3,
             "#f1b6da"
            ],
            [
             0.4,
             "#fde0ef"
            ],
            [
             0.5,
             "#f7f7f7"
            ],
            [
             0.6,
             "#e6f5d0"
            ],
            [
             0.7,
             "#b8e186"
            ],
            [
             0.8,
             "#7fbc41"
            ],
            [
             0.9,
             "#4d9221"
            ],
            [
             1,
             "#276419"
            ]
           ],
           "sequential": [
            [
             0,
             "#0d0887"
            ],
            [
             0.1111111111111111,
             "#46039f"
            ],
            [
             0.2222222222222222,
             "#7201a8"
            ],
            [
             0.3333333333333333,
             "#9c179e"
            ],
            [
             0.4444444444444444,
             "#bd3786"
            ],
            [
             0.5555555555555556,
             "#d8576b"
            ],
            [
             0.6666666666666666,
             "#ed7953"
            ],
            [
             0.7777777777777778,
             "#fb9f3a"
            ],
            [
             0.8888888888888888,
             "#fdca26"
            ],
            [
             1,
             "#f0f921"
            ]
           ],
           "sequentialminus": [
            [
             0,
             "#0d0887"
            ],
            [
             0.1111111111111111,
             "#46039f"
            ],
            [
             0.2222222222222222,
             "#7201a8"
            ],
            [
             0.3333333333333333,
             "#9c179e"
            ],
            [
             0.4444444444444444,
             "#bd3786"
            ],
            [
             0.5555555555555556,
             "#d8576b"
            ],
            [
             0.6666666666666666,
             "#ed7953"
            ],
            [
             0.7777777777777778,
             "#fb9f3a"
            ],
            [
             0.8888888888888888,
             "#fdca26"
            ],
            [
             1,
             "#f0f921"
            ]
           ]
          },
          "colorway": [
           "#636efa",
           "#EF553B",
           "#00cc96",
           "#ab63fa",
           "#FFA15A",
           "#19d3f3",
           "#FF6692",
           "#B6E880",
           "#FF97FF",
           "#FECB52"
          ],
          "font": {
           "color": "#2a3f5f"
          },
          "geo": {
           "bgcolor": "white",
           "lakecolor": "white",
           "landcolor": "#E5ECF6",
           "showlakes": true,
           "showland": true,
           "subunitcolor": "white"
          },
          "hoverlabel": {
           "align": "left"
          },
          "hovermode": "closest",
          "mapbox": {
           "style": "light"
          },
          "paper_bgcolor": "white",
          "plot_bgcolor": "#E5ECF6",
          "polar": {
           "angularaxis": {
            "gridcolor": "white",
            "linecolor": "white",
            "ticks": ""
           },
           "bgcolor": "#E5ECF6",
           "radialaxis": {
            "gridcolor": "white",
            "linecolor": "white",
            "ticks": ""
           }
          },
          "scene": {
           "xaxis": {
            "backgroundcolor": "#E5ECF6",
            "gridcolor": "white",
            "gridwidth": 2,
            "linecolor": "white",
            "showbackground": true,
            "ticks": "",
            "zerolinecolor": "white"
           },
           "yaxis": {
            "backgroundcolor": "#E5ECF6",
            "gridcolor": "white",
            "gridwidth": 2,
            "linecolor": "white",
            "showbackground": true,
            "ticks": "",
            "zerolinecolor": "white"
           },
           "zaxis": {
            "backgroundcolor": "#E5ECF6",
            "gridcolor": "white",
            "gridwidth": 2,
            "linecolor": "white",
            "showbackground": true,
            "ticks": "",
            "zerolinecolor": "white"
           }
          },
          "shapedefaults": {
           "line": {
            "color": "#2a3f5f"
           }
          },
          "ternary": {
           "aaxis": {
            "gridcolor": "white",
            "linecolor": "white",
            "ticks": ""
           },
           "baxis": {
            "gridcolor": "white",
            "linecolor": "white",
            "ticks": ""
           },
           "bgcolor": "#E5ECF6",
           "caxis": {
            "gridcolor": "white",
            "linecolor": "white",
            "ticks": ""
           }
          },
          "title": {
           "x": 0.05
          },
          "xaxis": {
           "automargin": true,
           "gridcolor": "white",
           "linecolor": "white",
           "ticks": "",
           "title": {
            "standoff": 15
           },
           "zerolinecolor": "white",
           "zerolinewidth": 2
          },
          "yaxis": {
           "automargin": true,
           "gridcolor": "white",
           "linecolor": "white",
           "ticks": "",
           "title": {
            "standoff": 15
           },
           "zerolinecolor": "white",
           "zerolinewidth": 2
          }
         }
        },
        "title": {
         "text": "Numero di passeggeri nel tempo"
        },
        "xaxis": {
         "title": {
          "text": "Mese (da Gennaio 1949)"
         }
        },
        "yaxis": {
         "title": {
          "text": "Numero passeggeri"
         }
        }
       }
      }
     },
     "metadata": {},
     "output_type": "display_data"
    }
   ],
   "source": [
    "import plotly.graph_objects as go\n",
    "import plotly.io as pio\n",
    "\n",
    "# Imposto il renderer per VS Code\n",
    "pio.renderers.default = \"vscode\"\n",
    "\n",
    "# Creo il grafico interattivo\n",
    "fig = go.Figure()\n",
    "\n",
    "# Punti reali dei passeggeri\n",
    "fig.add_trace(go.Scatter(\n",
    "    x=df_clean['mese_numerico'],        # Ascissa: mesi del gennaio 1949\n",
    "    y=y,                                # Ordinata: Valori reali dei passeggeri\n",
    "    mode='markers',\n",
    "    name='Dati reali'\n",
    "))\n",
    "\n",
    "# Curva stimata dal modello\n",
    "fig.add_trace(go.Scatter(\n",
    "    x=df_clean['mese_numerico'],       # Stessa ascissa\n",
    "    y=y_pred,                          # Ordinata: Valori stimati dal modello polinomiale\n",
    "    mode='lines',\n",
    "    name='Regressione polinomiale'\n",
    "))\n",
    "\n",
    "# Titoli e assi\n",
    "fig.update_layout(\n",
    "    title='Numero di passeggeri nel tempo',\n",
    "    xaxis_title='Mese (da Gennaio 1949)',\n",
    "    yaxis_title='Numero passeggeri'\n",
    ")\n",
    "\n",
    "# Mostro il grafico\n",
    "fig.show()\n",
    "\n",
    "## INFO: \n",
    "#   - go.Scatter(..., mode='markers'): Mostra i dati reali come punti.\n",
    "#   - go.Scatter(..., mode='lines'): Mostra la curva stimata.\n",
    "#   - fig.show(): Apre il grafico interattivo.\n"
   ]
  },
  {
   "cell_type": "markdown",
   "id": "640ee914",
   "metadata": {},
   "source": [
    "### Esercizio 2: \n",
    "Costruisci una web app con Dash che permette all’utente di scegliere il grado del polinomio per adattare un modello di regressione ai dati non lineari e vedere il risultato aggiornarsi dinamicamente.\n",
    "\n",
    "\n",
    "1. Genera 100 punti x tra -3 e 3.\n",
    "\n",
    "2. Calcola ad esempio y = x³ - x + rumore.\n",
    "\n",
    "3. Costruisci un'interfaccia Dash con:\n",
    "    - uno slider per scegliere il grado del polinomio (1–10),\n",
    "    - un grafico Plotly che mostra i dati e la curva stimata.\n",
    "\n",
    "4. Usa PolynomialFeatures + LinearRegression da scikit-learn per stimare la curva"
   ]
  },
  {
   "cell_type": "markdown",
   "id": "d67ee3e1",
   "metadata": {},
   "source": [
    "***Punto 1: Genera i dati***"
   ]
  },
  {
   "cell_type": "code",
   "execution_count": null,
   "id": "72398b59",
   "metadata": {},
   "outputs": [
    {
     "data": {
      "text/html": [
       "<div>\n",
       "<style scoped>\n",
       "    .dataframe tbody tr th:only-of-type {\n",
       "        vertical-align: middle;\n",
       "    }\n",
       "\n",
       "    .dataframe tbody tr th {\n",
       "        vertical-align: top;\n",
       "    }\n",
       "\n",
       "    .dataframe thead th {\n",
       "        text-align: right;\n",
       "    }\n",
       "</style>\n",
       "<table border=\"1\" class=\"dataframe\">\n",
       "  <thead>\n",
       "    <tr style=\"text-align: right;\">\n",
       "      <th></th>\n",
       "      <th>x</th>\n",
       "      <th>y</th>\n",
       "    </tr>\n",
       "  </thead>\n",
       "  <tbody>\n",
       "    <tr>\n",
       "      <th>0</th>\n",
       "      <td>-3.000000</td>\n",
       "      <td>-22.235948</td>\n",
       "    </tr>\n",
       "    <tr>\n",
       "      <th>1</th>\n",
       "      <td>-2.939394</td>\n",
       "      <td>-22.056920</td>\n",
       "    </tr>\n",
       "    <tr>\n",
       "      <th>2</th>\n",
       "      <td>-2.878788</td>\n",
       "      <td>-20.000197</td>\n",
       "    </tr>\n",
       "    <tr>\n",
       "      <th>3</th>\n",
       "      <td>-2.818182</td>\n",
       "      <td>-17.323344</td>\n",
       "    </tr>\n",
       "    <tr>\n",
       "      <th>4</th>\n",
       "      <td>-2.757576</td>\n",
       "      <td>-16.344090</td>\n",
       "    </tr>\n",
       "  </tbody>\n",
       "</table>\n",
       "</div>"
      ],
      "text/plain": [
       "          x          y\n",
       "0 -3.000000 -22.235948\n",
       "1 -2.939394 -22.056920\n",
       "2 -2.878788 -20.000197\n",
       "3 -2.818182 -17.323344\n",
       "4 -2.757576 -16.344090"
      ]
     },
     "execution_count": 21,
     "metadata": {},
     "output_type": "execute_result"
    }
   ],
   "source": [
    "import numpy as np\n",
    "import pandas as pd\n",
    "\n",
    "# Genera 100 punti x equispaziati tra -3 e 3\n",
    "x = np.linspace(-3, 3, 100)\n",
    "\n",
    "# Calcola y = x³ - x + rumore gaussiano\n",
    "np.random.seed(0)  # per risultati ripetibili\n",
    "rumore = np.random.normal(0, 1, size=x.shape)\n",
    "y = x**3 - x + rumore\n",
    "\n",
    "# Creo un DataFrame per comodità\n",
    "df = pd.DataFrame({'x': x, 'y': y})\n",
    "\n",
    "# Visualizzo le prime righe\n",
    "df.head()\n",
    "\n",
    "## INFO:\n",
    "#   -np.linspace(...): Crea 100 valori equidistanti tra -3 e 3.\n",
    "#   -np.random.normal(...): Aggiunge rumore gaussiano.\n",
    "#   -y = x³ - x + rumore: Funzione target non lineare.\n"
   ]
  },
  {
   "cell_type": "markdown",
   "id": "6f5e8b49",
   "metadata": {},
   "source": [
    "***Punto 2: Costruzione dell’app Dash di base***"
   ]
  },
  {
   "cell_type": "code",
   "execution_count": 24,
   "id": "7f32222a",
   "metadata": {},
   "outputs": [],
   "source": [
    "from dash import Dash, dcc, html\n",
    "import plotly.graph_objects as go\n",
    "\n",
    "# Creo l'app Dash\n",
    "app = Dash(__name__)\n",
    "\n",
    "# Layout dell'app: slider + grafico\n",
    "app.layout = html.Div([\n",
    "    html.H1(\"Regressione Polinomiale Interattiva\"),\n",
    "    \n",
    "    # Slider per scegliere il grado (1–10)\n",
    "    dcc.Slider(\n",
    "        id='grado-slider',\n",
    "        min=1,\n",
    "        max=10,\n",
    "        step=1,\n",
    "        value=2,  # valore iniziale\n",
    "        marks={i: str(i) for i in range(1, 11)}\n",
    "    ),\n",
    "    \n",
    "    # Grafico dove mostreremo dati + curva stimata\n",
    "    dcc.Graph(id='grafico-output')\n",
    "])\n",
    "\n",
    "## INFO: \n",
    "#   - html.H1(...): Titolo principale.\n",
    "#   -dcc.Slider(...): Consente di scegliere il grado del polinomio (da 1 a 10).\n",
    "#   -dcc.Graph(...): Componente che ospiterà il grafico Plotly."
   ]
  },
  {
   "cell_type": "markdown",
   "id": "b18df701",
   "metadata": {},
   "source": [
    "***Punto3: Callback dinamico + regressione polinomiale***"
   ]
  },
  {
   "cell_type": "code",
   "execution_count": null,
   "id": "6b8aef6f",
   "metadata": {},
   "outputs": [],
   "source": [
    "from dash.dependencies import Input, Output\n",
    "from sklearn.linear_model import LinearRegression\n",
    "from sklearn.preprocessing import PolynomialFeatures\n",
    "\n",
    "@app.callback(\n",
    "    Output('grafico-output', 'figure'),\n",
    "    Input('grado-slider', 'value')\n",
    ")\n",
    "def aggiorna_grafico(grado):\n",
    "    # Preparo i dati di input\n",
    "    X = df[['x']]\n",
    "    y_true = df['y']\n",
    "    \n",
    "    # Trasformo X in polinomi del grado selezionato\n",
    "    poly = PolynomialFeatures(degree=grado)\n",
    "    X_poly = poly.fit_transform(X)\n",
    "    \n",
    "    # Fitting del modello\n",
    "    model = LinearRegression()\n",
    "    model.fit(X_poly, y_true)\n",
    "    \n",
    "    # Predizione\n",
    "    y_pred = model.predict(X_poly)\n",
    "\n",
    "    # Creo il grafico Plotly\n",
    "    fig = go.Figure()\n",
    "    fig.add_trace(go.Scatter(x=df['x'], y=y_true, mode='markers', name='Dati reali'))\n",
    "    fig.add_trace(go.Scatter(x=df['x'], y=y_pred, mode='lines', name=f'Polinomio grado {grado}'))\n",
    "\n",
    "    fig.update_layout(title='Regressione polinomiale dinamica',\n",
    "                      xaxis_title='x',\n",
    "                      yaxis_title='y')\n",
    "\n",
    "    return fig\n",
    "\n",
    "## INFO: \n",
    "#   -@app.callback(...): Crea un legame automatico tra slider e grafico.\n",
    "#   -PolynomialFeatures(...) + LinearRegression(...): Fanno il fit in tempo reale.\n",
    "\n",
    "#   Ogni volta che grado-slider cambia, la funzione aggiorna_grafico viene chiamata.\n"
   ]
  },
  {
   "cell_type": "markdown",
   "id": "c575036c",
   "metadata": {},
   "source": [
    "***Punto 4: Avvio dell'app***"
   ]
  },
  {
   "cell_type": "code",
   "execution_count": 27,
   "id": "fa14f4e6",
   "metadata": {},
   "outputs": [
    {
     "data": {
      "text/html": [
       "\n",
       "        <iframe\n",
       "            width=\"100%\"\n",
       "            height=\"650\"\n",
       "            src=\"http://127.0.0.1:8050/\"\n",
       "            frameborder=\"0\"\n",
       "            allowfullscreen\n",
       "            \n",
       "        ></iframe>\n",
       "        "
      ],
      "text/plain": [
       "<IPython.lib.display.IFrame at 0x1f2c7a94850>"
      ]
     },
     "metadata": {},
     "output_type": "display_data"
    }
   ],
   "source": [
    "if __name__ == '__main__':\n",
    "    app.run(debug=True)\n",
    "\n",
    "## INFO: \n",
    "#   -if __name__ == '__main__': Serve per eseguire l'app solo quando il file è lanciato direttamente (non importato).\n",
    "#   -app.run(debug=True): Avvia il server in locale e ti permette di vedere l’app sul browser all’indirizzo:"
   ]
  }
 ],
 "metadata": {
  "kernelspec": {
   "display_name": "ProgrammingLab_2",
   "language": "python",
   "name": "python3"
  },
  "language_info": {
   "codemirror_mode": {
    "name": "ipython",
    "version": 3
   },
   "file_extension": ".py",
   "mimetype": "text/x-python",
   "name": "python",
   "nbconvert_exporter": "python",
   "pygments_lexer": "ipython3",
   "version": "3.11.11"
  }
 },
 "nbformat": 4,
 "nbformat_minor": 5
}
