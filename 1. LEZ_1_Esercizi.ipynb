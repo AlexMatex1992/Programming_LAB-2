{
 "cells": [
  {
   "cell_type": "markdown",
   "metadata": {},
   "source": [
    "### **1. Trasformare cicli in list comprehension**\n",
    "\n",
    "Fai tre esempi di cicli producono una lista e poi riscrivi lo stesso codice usando la list comprehension"
   ]
  },
  {
   "cell_type": "markdown",
   "metadata": {},
   "source": [
    "# ESEMPIO 1: QUADRATI DEI NUMERI DA 1 A 9"
   ]
  },
  {
   "cell_type": "code",
   "execution_count": null,
   "metadata": {},
   "outputs": [
    {
     "name": "stdout",
     "output_type": "stream",
     "text": [
      "[0, 1, 4, 9, 16, 25, 36, 49, 64, 81]\n"
     ]
    }
   ],
   "source": [
    "# Con ciclo for: 6666\n",
    "quadrati = []\n",
    "for i in range(10):\n",
    "    quadrati.append(i**2)\n",
    "print(quadrati)"
   ]
  },
  {
   "cell_type": "code",
   "execution_count": 2,
   "metadata": {},
   "outputs": [
    {
     "name": "stdout",
     "output_type": "stream",
     "text": [
      "[0, 1, 4, 9, 16, 25, 36, 49, 64, 81]\n"
     ]
    }
   ],
   "source": [
    "# Con list comprehension\n",
    "quadrati = [i**2 for i in range(10)]\n",
    "print(quadrati)"
   ]
  },
  {
   "cell_type": "markdown",
   "metadata": {},
   "source": [
    "# ESEMPIO 2: NUMERI PARI DA 0 A 19"
   ]
  },
  {
   "cell_type": "code",
   "execution_count": 3,
   "metadata": {},
   "outputs": [
    {
     "name": "stdout",
     "output_type": "stream",
     "text": [
      "[20, 0, 2, 4, 6, 8, 10, 12, 14, 16, 18]\n"
     ]
    }
   ],
   "source": [
    "# Con ciclo for:\n",
    "pari = [20]\n",
    "for i in range(20):\n",
    "    if i % 2 == 0:\n",
    "        pari.append(i)\n",
    "print (pari)"
   ]
  },
  {
   "cell_type": "code",
   "execution_count": 4,
   "metadata": {},
   "outputs": [
    {
     "name": "stdout",
     "output_type": "stream",
     "text": [
      "[0, 2, 4, 6, 8, 10, 12, 14, 16, 18]\n"
     ]
    }
   ],
   "source": [
    "# Con list comprehension\n",
    "pari = [i for i in range (20) if i % 2 == 0]\n",
    "print (pari)"
   ]
  },
  {
   "cell_type": "markdown",
   "metadata": {},
   "source": [
    "# ESEMPIO 3: LUNGHEZZE DI UNA PAROLA IN UNA LISTA"
   ]
  },
  {
   "cell_type": "code",
   "execution_count": 5,
   "metadata": {},
   "outputs": [
    {
     "name": "stdout",
     "output_type": "stream",
     "text": [
      "[4, 5, 5, 6, 4]\n"
     ]
    }
   ],
   "source": [
    "# Con ciclo for\n",
    "parole = [\"ciao\", \"rosso\", \"gatto\", \"albero\", \"mare\"]\n",
    "lunghezze = []\n",
    "for parola in parole:\n",
    "    lunghezze.append(len(parola))\n",
    "print(lunghezze)"
   ]
  },
  {
   "cell_type": "code",
   "execution_count": 6,
   "metadata": {},
   "outputs": [
    {
     "name": "stdout",
     "output_type": "stream",
     "text": [
      "[4, 5, 5, 6, 4]\n"
     ]
    }
   ],
   "source": [
    "# Con list comprehension\n",
    "parole = [\"ciao\", \"rosso\", \"gatto\", \"albero\", \"mare\"]\n",
    "lunghezze = [len(parola) for parola in parole]\n",
    "print(lunghezze)"
   ]
  },
  {
   "cell_type": "markdown",
   "metadata": {},
   "source": [
    "### **2. Vettore di Numeri Primi**\n",
    "\n",
    "1. **Crea un vettore** contenente tutti i numeri primi compresi tra **0 e 10**  \n",
    "   _(Puoi scriverli direttamente nell'array)._\n",
    "\n",
    "2. **Conta quanti numeri ci sono nel vettore** utilizzando la funzione `len()`.  **Ottieni lo stesso numero** accedendo all'attributo `.size` del vettore.\n",
    "\n",
    "3. Quale pensi sia il tipo di dato (`dtype`) del vettore?  Prova a rispondere senza eseguire il codice e Verifica la tua risposta accedendo all'attributo `.dtype` del vettore\n",
    "\n",
    "4. Scrivi l'array usando una list comprehension che controlla che i numeri siano primi. "
   ]
  },
  {
   "cell_type": "code",
   "execution_count": 7,
   "metadata": {},
   "outputs": [
    {
     "name": "stdout",
     "output_type": "stream",
     "text": [
      "[2 3 5 7]\n"
     ]
    }
   ],
   "source": [
    "# 1: Crea un vettore contenente i numeri primi da 0 a 10\n",
    "\n",
    "import numpy as np\n",
    "\n",
    "primi = np.array([2, 3, 5, 7])  # 0 e 1 non sono primi\n",
    "print (primi)"
   ]
  },
  {
   "cell_type": "code",
   "execution_count": 8,
   "metadata": {},
   "outputs": [
    {
     "name": "stdout",
     "output_type": "stream",
     "text": [
      "Lunghezza con len(): 4\n",
      "Lunghezza con .size: 4\n"
     ]
    }
   ],
   "source": [
    "#2: Conta quanti numeri ci sono nel vettore\n",
    "# Usiamo sia len() che .size:\n",
    "\n",
    "print(\"Lunghezza con len():\", len(primi))  # Output: 4\n",
    "print(\"Lunghezza con .size:\", primi.size)   # Output: 4"
   ]
  },
  {
   "cell_type": "code",
   "execution_count": 9,
   "metadata": {},
   "outputs": [
    {
     "name": "stdout",
     "output_type": "stream",
     "text": [
      "Tipo di dato: int64\n"
     ]
    }
   ],
   "source": [
    "#3: Verifico tipo di dato\n",
    "\n",
    "print(\"Tipo di dato:\", primi.dtype)  # Output: int32 o int64"
   ]
  },
  {
   "cell_type": "code",
   "execution_count": 10,
   "metadata": {},
   "outputs": [
    {
     "name": "stdout",
     "output_type": "stream",
     "text": [
      "[2 3 5 7]\n"
     ]
    }
   ],
   "source": [
    "#4: Scrivi l'array con list comprehension verificando se il numero è primo\n",
    "\n",
    "def è_primo(n):\n",
    "    if n < 2:\n",
    "        return False\n",
    "    for i in range (2, int(n**0.5) + 1):\n",
    "        if n% i == 0:\n",
    "            return False\n",
    "    return True\n",
    "\n",
    "primi = np.array([x for x in range(11) if è_primo(x)])\n",
    "print(primi)\n"
   ]
  },
  {
   "cell_type": "markdown",
   "metadata": {},
   "source": [
    "### **3.  Operazioni su array**\n",
    "Crea un array **a**, 1D (senza digitarlo esplicitamente), e genera due nuovi array **b**, contenente una sottostringa a piacere e **c** che è il reverse dell'array **a** (esempio [1,2,3] diventa [3,2,1]) .  Dividi l'array **a** per l'array **c**. Fai la stessa cosa per una lista."
   ]
  },
  {
   "cell_type": "markdown",
   "metadata": {},
   "source": [
    "# CON UN ARRAY NUMPY"
   ]
  },
  {
   "cell_type": "code",
   "execution_count": 11,
   "metadata": {},
   "outputs": [
    {
     "name": "stdout",
     "output_type": "stream",
     "text": [
      "a = [1 2 3 4 5]\n"
     ]
    }
   ],
   "source": [
    "# 1: Crea un array a, 1D senza digitarlo eplicitamente\n",
    "# Usiamo np.arange():\n",
    "\n",
    "import numpy as np\n",
    "\n",
    "a = np.arange(1, 6)     # Crea array [1, 2, 3, 4, 5]\n",
    "print (\"a =\", a)\n"
   ]
  },
  {
   "cell_type": "code",
   "execution_count": 12,
   "metadata": {},
   "outputs": [
    {
     "name": "stdout",
     "output_type": "stream",
     "text": [
      "b = 4\n"
     ]
    }
   ],
   "source": [
    "# 2: Crea un array b con una sottostringa (slicing)\n",
    "\n",
    "b = a[3]        # [1, 2, 3]\n",
    "print (\"b =\", b)"
   ]
  },
  {
   "cell_type": "code",
   "execution_count": 13,
   "metadata": {},
   "outputs": [
    {
     "name": "stdout",
     "output_type": "stream",
     "text": [
      "c = [5 4 3 2 1]\n"
     ]
    }
   ],
   "source": [
    "# 3: Crea l'array c come reverse di a\n",
    "\n",
    "c = a[::-1]        # [5, 4, 3, 2, 1]\n",
    "print (\"c =\", c)"
   ]
  },
  {
   "cell_type": "code",
   "execution_count": 14,
   "metadata": {},
   "outputs": [
    {
     "name": "stdout",
     "output_type": "stream",
     "text": [
      "a / c = [0.2 0.5 1.  2.  5. ]\n"
     ]
    }
   ],
   "source": [
    "# 4: Dividi  per c\n",
    "\n",
    "diviso = a / c\n",
    "print(\"a / c =\", diviso)"
   ]
  },
  {
   "cell_type": "markdown",
   "metadata": {},
   "source": [
    "# CON UNA LISTA PYTHON"
   ]
  },
  {
   "cell_type": "code",
   "execution_count": 15,
   "metadata": {},
   "outputs": [
    {
     "name": "stdout",
     "output_type": "stream",
     "text": [
      "lista _a = [1, 2, 3, 4, 5]\n"
     ]
    }
   ],
   "source": [
    "# 1: Crea una lista\n",
    "\n",
    "lista_a = list(range(1,6))  #[1, 2, 3, 4, 5]\n",
    "print (\"lista _a =\", lista_a)"
   ]
  },
  {
   "cell_type": "code",
   "execution_count": 16,
   "metadata": {},
   "outputs": [
    {
     "name": "stdout",
     "output_type": "stream",
     "text": [
      "lista_b = [1, 2, 3]\n"
     ]
    }
   ],
   "source": [
    "# 2: Crea un array b con una sottostringa (slicing)\n",
    "\n",
    "lista_b = lista_a[:3]       # [1, 2, 3]\n",
    "print (\"lista_b =\", lista_b)"
   ]
  },
  {
   "cell_type": "code",
   "execution_count": 17,
   "metadata": {},
   "outputs": [
    {
     "name": "stdout",
     "output_type": "stream",
     "text": [
      "lista_c = [5, 4, 3, 2, 1]\n"
     ]
    }
   ],
   "source": [
    "# 3: Crea l'array c come reverse di a\n",
    "\n",
    "lista_c = lista_a[::-1]     # [5, 4, 3, 2, 1]\n",
    "print(\"lista_c =\", lista_c)"
   ]
  },
  {
   "cell_type": "code",
   "execution_count": 19,
   "metadata": {},
   "outputs": [
    {
     "name": "stdout",
     "output_type": "stream",
     "text": [
      "lista_a / lista_c = [0.2, 0.5, 1.0, 2.0, 5.0]\n"
     ]
    }
   ],
   "source": [
    "# 4: Divisione elememto per elemento\n",
    "# Le liste non supportano la divisione diretta, quindi uso una list comprehension\n",
    "\n",
    "lista_divisa = [a / c for a, c in zip(lista_a, lista_c)]\n",
    "print(\"lista_a / lista_c =\", lista_divisa)"
   ]
  }
 ],
 "metadata": {
  "kernelspec": {
   "display_name": "Programming_LAB",
   "language": "python",
   "name": "python3"
  },
  "language_info": {
   "codemirror_mode": {
    "name": "ipython",
    "version": 3
   },
   "file_extension": ".py",
   "mimetype": "text/x-python",
   "name": "python",
   "nbconvert_exporter": "python",
   "pygments_lexer": "ipython3",
   "version": "3.9.21"
  }
 },
 "nbformat": 4,
 "nbformat_minor": 2
}
